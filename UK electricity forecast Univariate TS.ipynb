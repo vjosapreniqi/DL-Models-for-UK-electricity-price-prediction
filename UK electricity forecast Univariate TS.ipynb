{
 "cells": [
  {
   "cell_type": "markdown",
   "metadata": {
    "colab_type": "text",
    "id": "_thcL-vFb27S"
   },
   "source": [
    "## Forecasting **UK Electricity prices** using RNN, CNN and LSTM in tensor flow (Univariate Time series) "
   ]
  },
  {
   "cell_type": "code",
   "execution_count": 0,
   "metadata": {
    "colab": {},
    "colab_type": "code",
    "id": "7SkjDERjZrZz"
   },
   "outputs": [],
   "source": [
    "import pandas as pd\n",
    "from datetime import datetime\n",
    "import numpy as np"
   ]
  },
  {
   "cell_type": "code",
   "execution_count": 3,
   "metadata": {
    "colab": {
     "base_uri": "https://localhost:8080/",
     "height": 35
    },
    "colab_type": "code",
    "id": "6Z6r1H7_W83y",
    "outputId": "c7920d0b-2b0b-4a91-a43c-923faea3028e"
   },
   "outputs": [
    {
     "name": "stdout",
     "output_type": "stream",
     "text": [
      "TensorFlow 2.x selected.\n"
     ]
    }
   ],
   "source": [
    "try:\n",
    "  # %tensorflow_version only exists in Colab.\n",
    "  %tensorflow_version 2.x\n",
    "except Exception:\n",
    "  pass"
   ]
  },
  {
   "cell_type": "code",
   "execution_count": 0,
   "metadata": {
    "colab": {},
    "colab_type": "code",
    "id": "7XStnqNzTokN"
   },
   "outputs": [],
   "source": [
    "import tensorflow as tf\n"
   ]
  },
  {
   "cell_type": "code",
   "execution_count": 0,
   "metadata": {
    "colab": {},
    "colab_type": "code",
    "id": "KoyBlBVbPWZl"
   },
   "outputs": [],
   "source": [
    "import numpy as np\n",
    "import matplotlib.pyplot as plt"
   ]
  },
  {
   "cell_type": "code",
   "execution_count": 0,
   "metadata": {
    "colab": {},
    "colab_type": "code",
    "id": "eappfpH8Xyyv"
   },
   "outputs": [],
   "source": [
    "import numpy as np\n",
    "import matplotlib.pyplot as plt\n",
    "def plot_series(time, series, format=\"-\", start=0, end=None):\n",
    "    plt.plot(time[start:end], series[start:end], format)\n",
    "    plt.xlabel(\"Time\")\n",
    "    plt.ylabel(\"Value\")\n",
    "    plt.grid(True)"
   ]
  },
  {
   "cell_type": "code",
   "execution_count": 7,
   "metadata": {
    "colab": {
     "base_uri": "https://localhost:8080/",
     "height": 238
    },
    "colab_type": "code",
    "id": "IFLt1mHOc4oE",
    "outputId": "c87775c0-0844-42d3-bf37-1da6463831d8"
   },
   "outputs": [
    {
     "data": {
      "text/html": [
       "<div>\n",
       "<style scoped>\n",
       "    .dataframe tbody tr th:only-of-type {\n",
       "        vertical-align: middle;\n",
       "    }\n",
       "\n",
       "    .dataframe tbody tr th {\n",
       "        vertical-align: top;\n",
       "    }\n",
       "\n",
       "    .dataframe thead th {\n",
       "        text-align: right;\n",
       "    }\n",
       "</style>\n",
       "<table border=\"1\" class=\"dataframe\">\n",
       "  <thead>\n",
       "    <tr style=\"text-align: right;\">\n",
       "      <th></th>\n",
       "      <th>Price</th>\n",
       "      <th>Volume</th>\n",
       "      <th>Settlement Period</th>\n",
       "      <th>hour</th>\n",
       "      <th>quarter</th>\n",
       "      <th>year</th>\n",
       "      <th>dayofyear</th>\n",
       "      <th>dayofmonth</th>\n",
       "      <th>weekofyear</th>\n",
       "      <th>SAP</th>\n",
       "      <th>EU_ETS</th>\n",
       "      <th>Gas</th>\n",
       "      <th>INDO</th>\n",
       "    </tr>\n",
       "    <tr>\n",
       "      <th>datetime</th>\n",
       "      <th></th>\n",
       "      <th></th>\n",
       "      <th></th>\n",
       "      <th></th>\n",
       "      <th></th>\n",
       "      <th></th>\n",
       "      <th></th>\n",
       "      <th></th>\n",
       "      <th></th>\n",
       "      <th></th>\n",
       "      <th></th>\n",
       "      <th></th>\n",
       "      <th></th>\n",
       "    </tr>\n",
       "  </thead>\n",
       "  <tbody>\n",
       "    <tr>\n",
       "      <th>2017-01-01 00:00:00</th>\n",
       "      <td>44.90</td>\n",
       "      <td>505.00</td>\n",
       "      <td>1</td>\n",
       "      <td>0.0</td>\n",
       "      <td>1.0</td>\n",
       "      <td>2017.0</td>\n",
       "      <td>1.0</td>\n",
       "      <td>1.0</td>\n",
       "      <td>52.0</td>\n",
       "      <td>16.95</td>\n",
       "      <td>1.033832</td>\n",
       "      <td>21.294832</td>\n",
       "      <td>27239</td>\n",
       "    </tr>\n",
       "    <tr>\n",
       "      <th>2017-01-01 00:30:00</th>\n",
       "      <td>47.13</td>\n",
       "      <td>559.15</td>\n",
       "      <td>2</td>\n",
       "      <td>0.0</td>\n",
       "      <td>1.0</td>\n",
       "      <td>2017.0</td>\n",
       "      <td>1.0</td>\n",
       "      <td>1.0</td>\n",
       "      <td>52.0</td>\n",
       "      <td>16.95</td>\n",
       "      <td>1.033832</td>\n",
       "      <td>21.294832</td>\n",
       "      <td>27814</td>\n",
       "    </tr>\n",
       "    <tr>\n",
       "      <th>2017-01-01 01:00:00</th>\n",
       "      <td>45.62</td>\n",
       "      <td>649.35</td>\n",
       "      <td>3</td>\n",
       "      <td>1.0</td>\n",
       "      <td>1.0</td>\n",
       "      <td>2017.0</td>\n",
       "      <td>1.0</td>\n",
       "      <td>1.0</td>\n",
       "      <td>52.0</td>\n",
       "      <td>16.95</td>\n",
       "      <td>1.033832</td>\n",
       "      <td>21.294832</td>\n",
       "      <td>27453</td>\n",
       "    </tr>\n",
       "  </tbody>\n",
       "</table>\n",
       "</div>"
      ],
      "text/plain": [
       "                     Price  Volume  ...        Gas   INDO\n",
       "datetime                            ...                  \n",
       "2017-01-01 00:00:00  44.90  505.00  ...  21.294832  27239\n",
       "2017-01-01 00:30:00  47.13  559.15  ...  21.294832  27814\n",
       "2017-01-01 01:00:00  45.62  649.35  ...  21.294832  27453\n",
       "\n",
       "[3 rows x 13 columns]"
      ]
     },
     "execution_count": 7,
     "metadata": {
      "tags": []
     },
     "output_type": "execute_result"
    }
   ],
   "source": [
    "import pandas as pd\n",
    "df=pd.read_csv(\"electricity-prices.csv\",index_col=[0], parse_dates=[0])\n",
    "df.head(3)"
   ]
  },
  {
   "cell_type": "code",
   "execution_count": 0,
   "metadata": {
    "colab": {},
    "colab_type": "code",
    "id": "8ZyRXU-QccA4"
   },
   "outputs": [],
   "source": [
    "\n",
    "def limit(data, frm, to):\n",
    "    return data[(data.index>=frm)&(data.index<to)]"
   ]
  },
  {
   "cell_type": "code",
   "execution_count": 0,
   "metadata": {
    "colab": {},
    "colab_type": "code",
    "id": "zzrAiCu8dM4n"
   },
   "outputs": [],
   "source": [
    "new_df = limit(df,'2019-01-01', '2019-06-30')"
   ]
  },
  {
   "cell_type": "code",
   "execution_count": 10,
   "metadata": {
    "colab": {
     "base_uri": "https://localhost:8080/",
     "height": 35
    },
    "colab_type": "code",
    "id": "s5HcASAvd8Ll",
    "outputId": "e17a3ca9-c9cd-43da-b438-0c0bc0e5466e"
   },
   "outputs": [
    {
     "data": {
      "text/plain": [
       "(8530, 13)"
      ]
     },
     "execution_count": 10,
     "metadata": {
      "tags": []
     },
     "output_type": "execute_result"
    }
   ],
   "source": [
    "new_df.shape"
   ]
  },
  {
   "cell_type": "code",
   "execution_count": 0,
   "metadata": {
    "colab": {},
    "colab_type": "code",
    "id": "5ge7yq9czl-M"
   },
   "outputs": [],
   "source": [
    "new_df=new_df[['Price']]"
   ]
  },
  {
   "cell_type": "code",
   "execution_count": 12,
   "metadata": {
    "colab": {
     "base_uri": "https://localhost:8080/",
     "height": 230
    },
    "colab_type": "code",
    "id": "oIECH5OGzxWf",
    "outputId": "51b8cf53-6f55-45c2-e7fd-d6aa3a4918c1"
   },
   "outputs": [
    {
     "data": {
      "text/html": [
       "<div>\n",
       "<style scoped>\n",
       "    .dataframe tbody tr th:only-of-type {\n",
       "        vertical-align: middle;\n",
       "    }\n",
       "\n",
       "    .dataframe tbody tr th {\n",
       "        vertical-align: top;\n",
       "    }\n",
       "\n",
       "    .dataframe thead th {\n",
       "        text-align: right;\n",
       "    }\n",
       "</style>\n",
       "<table border=\"1\" class=\"dataframe\">\n",
       "  <thead>\n",
       "    <tr style=\"text-align: right;\">\n",
       "      <th></th>\n",
       "      <th>Price</th>\n",
       "    </tr>\n",
       "    <tr>\n",
       "      <th>datetime</th>\n",
       "      <th></th>\n",
       "    </tr>\n",
       "  </thead>\n",
       "  <tbody>\n",
       "    <tr>\n",
       "      <th>2019-01-01 00:00:00</th>\n",
       "      <td>48.81</td>\n",
       "    </tr>\n",
       "    <tr>\n",
       "      <th>2019-01-01 00:30:00</th>\n",
       "      <td>50.24</td>\n",
       "    </tr>\n",
       "    <tr>\n",
       "      <th>2019-01-01 01:00:00</th>\n",
       "      <td>41.90</td>\n",
       "    </tr>\n",
       "    <tr>\n",
       "      <th>2019-01-01 01:30:00</th>\n",
       "      <td>39.32</td>\n",
       "    </tr>\n",
       "    <tr>\n",
       "      <th>2019-01-01 02:00:00</th>\n",
       "      <td>34.09</td>\n",
       "    </tr>\n",
       "  </tbody>\n",
       "</table>\n",
       "</div>"
      ],
      "text/plain": [
       "                     Price\n",
       "datetime                  \n",
       "2019-01-01 00:00:00  48.81\n",
       "2019-01-01 00:30:00  50.24\n",
       "2019-01-01 01:00:00  41.90\n",
       "2019-01-01 01:30:00  39.32\n",
       "2019-01-01 02:00:00  34.09"
      ]
     },
     "execution_count": 12,
     "metadata": {
      "tags": []
     },
     "output_type": "execute_result"
    }
   ],
   "source": [
    "new_df.head()"
   ]
  },
  {
   "cell_type": "code",
   "execution_count": 0,
   "metadata": {
    "colab": {},
    "colab_type": "code",
    "id": "TaWt102Fd_78"
   },
   "outputs": [],
   "source": [
    "new_df.to_csv('small_elec.csv')"
   ]
  },
  {
   "cell_type": "code",
   "execution_count": 14,
   "metadata": {
    "colab": {
     "base_uri": "https://localhost:8080/",
     "height": 170
    },
    "colab_type": "code",
    "id": "OLytekJ-dopF",
    "outputId": "9381d991-bde0-4b0c-fafd-225637c61654"
   },
   "outputs": [
    {
     "data": {
      "text/html": [
       "<div>\n",
       "<style scoped>\n",
       "    .dataframe tbody tr th:only-of-type {\n",
       "        vertical-align: middle;\n",
       "    }\n",
       "\n",
       "    .dataframe tbody tr th {\n",
       "        vertical-align: top;\n",
       "    }\n",
       "\n",
       "    .dataframe thead th {\n",
       "        text-align: right;\n",
       "    }\n",
       "</style>\n",
       "<table border=\"1\" class=\"dataframe\">\n",
       "  <thead>\n",
       "    <tr style=\"text-align: right;\">\n",
       "      <th></th>\n",
       "      <th>Price</th>\n",
       "    </tr>\n",
       "    <tr>\n",
       "      <th>datetime</th>\n",
       "      <th></th>\n",
       "    </tr>\n",
       "  </thead>\n",
       "  <tbody>\n",
       "    <tr>\n",
       "      <th>2019-01-01 00:00:00</th>\n",
       "      <td>48.81</td>\n",
       "    </tr>\n",
       "    <tr>\n",
       "      <th>2019-01-01 00:30:00</th>\n",
       "      <td>50.24</td>\n",
       "    </tr>\n",
       "    <tr>\n",
       "      <th>2019-01-01 01:00:00</th>\n",
       "      <td>41.90</td>\n",
       "    </tr>\n",
       "  </tbody>\n",
       "</table>\n",
       "</div>"
      ],
      "text/plain": [
       "                     Price\n",
       "datetime                  \n",
       "2019-01-01 00:00:00  48.81\n",
       "2019-01-01 00:30:00  50.24\n",
       "2019-01-01 01:00:00  41.90"
      ]
     },
     "execution_count": 14,
     "metadata": {
      "tags": []
     },
     "output_type": "execute_result"
    }
   ],
   "source": [
    "new_df.head(3)"
   ]
  },
  {
   "cell_type": "code",
   "execution_count": 0,
   "metadata": {
    "colab": {},
    "colab_type": "code",
    "id": "XGVJNDSqcj24"
   },
   "outputs": [],
   "source": [
    "df.sort_index(inplace=True)"
   ]
  },
  {
   "cell_type": "code",
   "execution_count": 16,
   "metadata": {
    "colab": {
     "base_uri": "https://localhost:8080/",
     "height": 388
    },
    "colab_type": "code",
    "id": "saVYmo8aYDfD",
    "outputId": "52a8e234-5d49-446f-f5ff-9b335e22ac23"
   },
   "outputs": [
    {
     "data": {
      "image/png": "[encoded data removed]",
      "text/plain": [
       "<Figure size 720x432 with 1 Axes>"
      ]
     },
     "metadata": {
      "tags": []
     },
     "output_type": "display_data"
    }
   ],
   "source": [
    "import csv\n",
    "time_step = []\n",
    "elec_prices = []\n",
    "\n",
    "with open('small_elec.csv') as csvfile:\n",
    "  reader = csv.reader(csvfile, delimiter=',')\n",
    "  next(reader)\n",
    "  for row in reader:\n",
    "    elec_prices.append(float(row[1]))\n",
    "    time_step.append(str(row[0]))\n",
    "\n",
    "series = np.array(elec_prices)\n",
    "time = np.array(time_step)\n",
    "plt.figure(figsize=(10, 6))\n",
    "plot_series(time, series)"
   ]
  },
  {
   "cell_type": "code",
   "execution_count": 0,
   "metadata": {
    "colab": {},
    "colab_type": "code",
    "id": "Mg3QPuRReyWm"
   },
   "outputs": [],
   "source": [
    "split_time = 7810 # Train 01 -01 -2019 test: 15 -06 -2019\n",
    "time_train = time[:split_time]\n",
    "x_train = series[:split_time]\n",
    "time_valid = time[split_time:]\n",
    "x_valid = series[split_time:]\n",
    "\n",
    "window_size = 30\n",
    "batch_size = 32\n",
    "shuffle_buffer_size = 10000"
   ]
  },
  {
   "cell_type": "code",
   "execution_count": 18,
   "metadata": {
    "colab": {
     "base_uri": "https://localhost:8080/",
     "height": 70
    },
    "colab_type": "code",
    "id": "HxpyNbGCbCRU",
    "outputId": "b77b1e58-d944-423a-c1c5-4a41827ce3e7"
   },
   "outputs": [
    {
     "data": {
      "text/plain": [
       "array(['2019-01-01 00:00:00', '2019-01-01 00:30:00',\n",
       "       '2019-01-01 01:00:00', ..., '2019-06-14 22:30:00',\n",
       "       '2019-06-14 23:00:00', '2019-06-14 23:30:00'], dtype='<U19')"
      ]
     },
     "execution_count": 18,
     "metadata": {
      "tags": []
     },
     "output_type": "execute_result"
    }
   ],
   "source": [
    "time_train"
   ]
  },
  {
   "cell_type": "code",
   "execution_count": 19,
   "metadata": {
    "colab": {
     "base_uri": "https://localhost:8080/",
     "height": 35
    },
    "colab_type": "code",
    "id": "3rY7xVbhWfZ0",
    "outputId": "eba74b96-20c7-4b59-9129-c668529aab33"
   },
   "outputs": [
    {
     "data": {
      "text/plain": [
       "8530"
      ]
     },
     "execution_count": 19,
     "metadata": {
      "tags": []
     },
     "output_type": "execute_result"
    }
   ],
   "source": [
    "len(series)"
   ]
  },
  {
   "cell_type": "markdown",
   "metadata": {
    "colab_type": "text",
    "id": "2O5LdRKycQgL"
   },
   "source": [
    "# 1. Simple RNN Model:"
   ]
  },
  {
   "cell_type": "code",
   "execution_count": 0,
   "metadata": {
    "colab": {},
    "colab_type": "code",
    "id": "LR0sD9mThYAu"
   },
   "outputs": [],
   "source": [
    "def windowed_dataset(series, window_size, batch_size, shuffle_buffer):\n",
    "  dataset = tf.data.Dataset.from_tensor_slices(series)\n",
    "  dataset = dataset.window(window_size + 1, shift=1, drop_remainder=True)\n",
    "  dataset = dataset.flat_map(lambda window: window.batch(window_size + 1))\n",
    "  dataset = dataset.shuffle(shuffle_buffer).map(lambda window: (window[:-1], window[-1]))\n",
    "  dataset = dataset.batch(batch_size).prefetch(1)\n",
    "  return dataset"
   ]
  },
  {
   "cell_type": "code",
   "execution_count": 0,
   "metadata": {
    "colab": {
     "base_uri": "https://localhost:8080/",
     "height": 1000
    },
    "colab_type": "code",
    "id": "ENW0u0uxhZAl",
    "outputId": "8b2c3ef0-5568-49de-e9a3-d58c3c0f949e"
   },
   "outputs": [
    {
     "name": "stdout",
     "output_type": "stream",
     "text": [
      "Epoch 1/43\n",
      "61/61 [==============================] - 4s 65ms/step - loss: 205.2500 - mae: 205.7639\n",
      "Epoch 2/43\n",
      "61/61 [==============================] - 3s 46ms/step - loss: 192.6193 - mae: 193.1426\n",
      "Epoch 3/43\n",
      "61/61 [==============================] - 3s 46ms/step - loss: 176.1388 - mae: 176.6761\n",
      "Epoch 4/43\n",
      "61/61 [==============================] - 3s 46ms/step - loss: 153.4064 - mae: 153.9575\n",
      "Epoch 5/43\n",
      "61/61 [==============================] - 3s 45ms/step - loss: 117.6216 - mae: 118.2066\n",
      "Epoch 6/43\n",
      "61/61 [==============================] - 3s 45ms/step - loss: 57.6880 - mae: 58.2947\n",
      "Epoch 7/43\n",
      "61/61 [==============================] - 3s 46ms/step - loss: 17.6531 - mae: 18.1662\n",
      "Epoch 8/43\n",
      "61/61 [==============================] - 3s 46ms/step - loss: 13.5416 - mae: 14.0284\n",
      "Epoch 9/43\n",
      "61/61 [==============================] - 3s 48ms/step - loss: 11.1709 - mae: 11.6631\n",
      "Epoch 10/43\n",
      "61/61 [==============================] - 3s 50ms/step - loss: 8.5040 - mae: 8.9973\n",
      "Epoch 11/43\n",
      "61/61 [==============================] - 3s 46ms/step - loss: 6.2710 - mae: 6.7527\n",
      "Epoch 12/43\n",
      "61/61 [==============================] - 3s 46ms/step - loss: 4.7902 - mae: 5.2654\n",
      "Epoch 13/43\n",
      "61/61 [==============================] - 3s 48ms/step - loss: 4.0036 - mae: 4.4698\n",
      "Epoch 14/43\n",
      "61/61 [==============================] - 3s 47ms/step - loss: 3.6749 - mae: 4.1354\n",
      "Epoch 15/43\n",
      "61/61 [==============================] - 3s 47ms/step - loss: 3.5393 - mae: 3.9998\n",
      "Epoch 16/43\n",
      "61/61 [==============================] - 3s 47ms/step - loss: 3.4697 - mae: 3.9259\n",
      "Epoch 17/43\n",
      "61/61 [==============================] - 3s 47ms/step - loss: 3.4144 - mae: 3.8711\n",
      "Epoch 18/43\n",
      "61/61 [==============================] - 3s 46ms/step - loss: 3.3513 - mae: 3.8063\n",
      "Epoch 19/43\n",
      "61/61 [==============================] - 3s 46ms/step - loss: 3.2730 - mae: 3.7265\n",
      "Epoch 20/43\n",
      "61/61 [==============================] - 3s 48ms/step - loss: 3.1916 - mae: 3.6478\n",
      "Epoch 21/43\n",
      "61/61 [==============================] - 3s 46ms/step - loss: 3.0974 - mae: 3.5469\n",
      "Epoch 22/43\n",
      "61/61 [==============================] - 3s 49ms/step - loss: 2.9875 - mae: 3.4398\n",
      "Epoch 23/43\n",
      "61/61 [==============================] - 3s 45ms/step - loss: 2.8942 - mae: 3.3432\n",
      "Epoch 24/43\n",
      "61/61 [==============================] - 3s 46ms/step - loss: 2.8102 - mae: 3.2603\n",
      "Epoch 25/43\n",
      "61/61 [==============================] - 3s 46ms/step - loss: 2.7437 - mae: 3.1911\n",
      "Epoch 26/43\n",
      "61/61 [==============================] - 3s 45ms/step - loss: 2.6851 - mae: 3.1324\n",
      "Epoch 27/43\n",
      "61/61 [==============================] - 3s 46ms/step - loss: 2.6414 - mae: 3.0885\n",
      "Epoch 28/43\n",
      "61/61 [==============================] - 3s 45ms/step - loss: 2.6021 - mae: 3.0449\n",
      "Epoch 29/43\n",
      "61/61 [==============================] - 3s 46ms/step - loss: 2.5719 - mae: 3.0161\n",
      "Epoch 30/43\n",
      "61/61 [==============================] - 3s 45ms/step - loss: 2.5201 - mae: 2.9599\n",
      "Epoch 31/43\n",
      "61/61 [==============================] - 3s 47ms/step - loss: 2.5079 - mae: 2.9548\n",
      "Epoch 32/43\n",
      "61/61 [==============================] - 3s 47ms/step - loss: 2.4705 - mae: 2.9126\n",
      "Epoch 33/43\n",
      "61/61 [==============================] - 3s 47ms/step - loss: 2.4798 - mae: 2.9201\n",
      "Epoch 34/43\n",
      "61/61 [==============================] - 3s 47ms/step - loss: 2.4429 - mae: 2.8843\n",
      "Epoch 35/43\n",
      "61/61 [==============================] - 3s 47ms/step - loss: 2.4364 - mae: 2.8823\n",
      "Epoch 36/43\n",
      "61/61 [==============================] - 3s 47ms/step - loss: 2.4239 - mae: 2.8685\n",
      "Epoch 37/43\n",
      "61/61 [==============================] - 3s 48ms/step - loss: 2.4393 - mae: 2.8886\n",
      "Epoch 38/43\n",
      "61/61 [==============================] - 3s 47ms/step - loss: 2.4300 - mae: 2.8757\n",
      "Epoch 39/43\n",
      "61/61 [==============================] - 3s 47ms/step - loss: 2.3916 - mae: 2.8379\n",
      "Epoch 40/43\n",
      "61/61 [==============================] - 3s 46ms/step - loss: 2.4113 - mae: 2.8568\n",
      "Epoch 41/43\n",
      "61/61 [==============================] - 3s 46ms/step - loss: 2.3719 - mae: 2.8162\n",
      "Epoch 42/43\n",
      "61/61 [==============================] - 3s 47ms/step - loss: 2.4003 - mae: 2.8469\n",
      "Epoch 43/43\n",
      "61/61 [==============================] - 3s 49ms/step - loss: 2.4057 - mae: 2.8561\n"
     ]
    }
   ],
   "source": [
    "tf.keras.backend.clear_session()\n",
    "tf.compat.v2.random.set_seed(51)\n",
    "np.random.seed(51)\n",
    "\n",
    "train_set = windowed_dataset(x_train, window_size, batch_size=128, shuffle_buffer=shuffle_buffer_size)\n",
    "\n",
    "model = tf.keras.models.Sequential([\n",
    "  tf.keras.layers.Lambda(lambda x: tf.expand_dims(x, axis=-1),\n",
    "                      input_shape=[None]),\n",
    "  tf.keras.layers.SimpleRNN(40, return_sequences=True),\n",
    "  tf.keras.layers.SimpleRNN(40),\n",
    "  tf.keras.layers.Dense(1),\n",
    "  tf.keras.layers.Lambda(lambda x: x * 100.0)\n",
    "])\n",
    "\n",
    "lr_schedule = tf.keras.callbacks.LearningRateScheduler(\n",
    "    lambda epoch: 1e-8 * 10**(epoch / 20))\n",
    "optimizer = tf.keras.optimizers.SGD(lr=2e-6, momentum=0.9)\n",
    "model.compile(loss=tf.keras.losses.Huber(),\n",
    "              optimizer=optimizer,\n",
    "              metrics=[\"mae\"])\n",
    "history = model.fit(train_set, epochs=43, callbacks=[lr_schedule])"
   ]
  },
  {
   "cell_type": "code",
   "execution_count": 0,
   "metadata": {
    "colab": {
     "base_uri": "https://localhost:8080/",
     "height": 291
    },
    "colab_type": "code",
    "id": "N2LL9jO1hZNj",
    "outputId": "a26a9f02-bd1f-4766-baa7-9eb173e88984"
   },
   "outputs": [
    {
     "data": {
      "text/plain": [
       "(1e-08, 0.0001, 0.0, 60.0)"
      ]
     },
     "execution_count": 23,
     "metadata": {
      "tags": []
     },
     "output_type": "execute_result"
    },
    {
     "data": {
      "image/png": "[encoded data removed]",
      "text/plain": [
       "<Figure size 432x288 with 1 Axes>"
      ]
     },
     "metadata": {
      "tags": []
     },
     "output_type": "display_data"
    }
   ],
   "source": [
    "plt.semilogx(history.history[\"lr\"], history.history[\"loss\"])\n",
    "plt.axis([1e-8, 1e-4, 0, 60])"
   ]
  },
  {
   "cell_type": "code",
   "execution_count": 0,
   "metadata": {
    "colab": {
     "base_uri": "https://localhost:8080/",
     "height": 374
    },
    "colab_type": "code",
    "id": "xiv7-KF74xVW",
    "outputId": "03a120c7-fedb-481e-dc00-8b8104528f43"
   },
   "outputs": [
    {
     "data": {
      "image/png": "[encoded data removed]",
      "text/plain": [
       "<Figure size 720x432 with 1 Axes>"
      ]
     },
     "metadata": {
      "tags": []
     },
     "output_type": "display_data"
    }
   ],
   "source": [
    "forecast=[]\n",
    "for time in range(len(series) - window_size):\n",
    "  forecast.append(model.predict(series[time:time + window_size][np.newaxis]))\n",
    "\n",
    "forecast = forecast[split_time-window_size:]\n",
    "results = np.array(forecast)[:, 0, 0]\n",
    "\n",
    "\n",
    "#plt.figure(figsize=(10, 6))\n",
    "\n",
    "#plot_series(time_valid, x_valid)\n",
    "#plot_series(time_valid, results)\n",
    "from matplotlib import pyplot\n",
    "pyplot.figure(figsize=(10, 6))\n",
    "pyplot.plot( x_valid)\n",
    "pyplot.plot(results)\n",
    "pyplot.show()"
   ]
  },
  {
   "cell_type": "code",
   "execution_count": 0,
   "metadata": {
    "colab": {
     "base_uri": "https://localhost:8080/",
     "height": 265
    },
    "colab_type": "code",
    "id": "LJn3NU5tDgfm",
    "outputId": "3124e718-678b-4ee4-c8ab-7d2e5554c5ac"
   },
   "outputs": [
    {
     "data": {
      "image/png": "[encoded data removed]",
      "text/plain": [
       "<Figure size 432x288 with 1 Axes>"
      ]
     },
     "metadata": {
      "tags": []
     },
     "output_type": "display_data"
    }
   ],
   "source": [
    "pyplot.plot(x_valid[-100:])\n",
    "pyplot.plot(results[-100:])\n",
    "pyplot.show()"
   ]
  },
  {
   "cell_type": "code",
   "execution_count": 0,
   "metadata": {
    "colab": {
     "base_uri": "https://localhost:8080/",
     "height": 88
    },
    "colab_type": "code",
    "id": "w5gd700z4z0d",
    "outputId": "2a5e0d2f-d399-4064-946a-2813a856ad44"
   },
   "outputs": [
    {
     "name": "stdout",
     "output_type": "stream",
     "text": [
      "MAE Error: 3.129019217\n",
      "MSE Error : 28.26239083\n",
      "RMSE Error:  5.31623841\n",
      "MAPE Error: 9.371776685\n"
     ]
    }
   ],
   "source": [
    "from sklearn.metrics import mean_absolute_error\n",
    "from statsmodels.tools.eval_measures import mse,rmse\n",
    "error1 = mse(x_valid, results)\n",
    "error2 = rmse(x_valid, results)\n",
    "error3 = mean_absolute_error(x_valid, results)\n",
    "\n",
    "def mean_absolute_percentage_error(y_true, y_pred): \n",
    "    y_true, y_pred = np.array(x_valid), np.array(results)\n",
    "    return np.mean(np.abs((y_true - y_pred) / y_true)) * 100\n",
    "\n",
    "error4 = mean_absolute_percentage_error(x_valid, results)\n",
    "\n",
    "print(f'MAE Error: {error3:11.10}') \n",
    "print(f'MSE Error : {error1:11.10}')\n",
    "print(f'RMSE Error: {error2:11.10}')\n",
    "print(f'MAPE Error: {error4:11.10}')\n"
   ]
  },
  {
   "cell_type": "markdown",
   "metadata": {
    "colab_type": "text",
    "id": "UpZABEQ6FaWs"
   },
   "source": [
    "# 2. The model with LSTM + convolutional layer on top"
   ]
  },
  {
   "cell_type": "code",
   "execution_count": 0,
   "metadata": {
    "colab": {},
    "colab_type": "code",
    "id": "dtK8C0GDFKCJ"
   },
   "outputs": [],
   "source": [
    "def windowed_dataset(series, window_size, batch_size, shuffle_buffer):\n",
    "    series = tf.expand_dims(series, axis=-1)\n",
    "    ds = tf.data.Dataset.from_tensor_slices(series)\n",
    "    ds = ds.window(window_size + 1, shift=1, drop_remainder=True)\n",
    "    ds = ds.flat_map(lambda w: w.batch(window_size + 1))\n",
    "    ds = ds.shuffle(shuffle_buffer)\n",
    "    ds = ds.map(lambda w: (w[:-1], w[1:]))\n",
    "    return ds.batch(batch_size).prefetch(1)"
   ]
  },
  {
   "cell_type": "code",
   "execution_count": 0,
   "metadata": {
    "colab": {},
    "colab_type": "code",
    "id": "NPZQSX6mFYsx"
   },
   "outputs": [],
   "source": [
    "def model_forecast(model, series, window_size):\n",
    "    ds = tf.data.Dataset.from_tensor_slices(series)\n",
    "    ds = ds.window(window_size, shift=1, drop_remainder=True)\n",
    "    ds = ds.flat_map(lambda w: w.batch(window_size))\n",
    "    ds = ds.batch(32).prefetch(1)\n",
    "    forecast = model.predict(ds)\n",
    "    return forecast"
   ]
  },
  {
   "cell_type": "code",
   "execution_count": 0,
   "metadata": {
    "colab": {
     "base_uri": "https://localhost:8080/",
     "height": 1000
    },
    "colab_type": "code",
    "id": "E-ipVyq2qX8L",
    "outputId": "15a23da3-0a23-4ac5-fd7c-261efb3bad8c"
   },
   "outputs": [
    {
     "name": "stdout",
     "output_type": "stream",
     "text": [
      "Epoch 1/70\n",
      "78/78 [==============================] - 5s 60ms/step - loss: 8.6142 - mae: 9.1220\n",
      "Epoch 2/70\n",
      "78/78 [==============================] - 2s 22ms/step - loss: 4.1443 - mae: 4.6065\n",
      "Epoch 3/70\n",
      "78/78 [==============================] - 2s 21ms/step - loss: 3.7393 - mae: 4.2001\n",
      "Epoch 4/70\n",
      "78/78 [==============================] - 2s 21ms/step - loss: 3.4849 - mae: 3.9414\n",
      "Epoch 5/70\n",
      "78/78 [==============================] - 2s 22ms/step - loss: 3.2928 - mae: 3.7482\n",
      "Epoch 6/70\n",
      "78/78 [==============================] - 2s 21ms/step - loss: 3.1358 - mae: 3.5902\n",
      "Epoch 7/70\n",
      "78/78 [==============================] - 2s 21ms/step - loss: 3.0001 - mae: 3.4525\n",
      "Epoch 8/70\n",
      "78/78 [==============================] - 2s 23ms/step - loss: 2.8906 - mae: 3.3415\n",
      "Epoch 9/70\n",
      "78/78 [==============================] - 2s 22ms/step - loss: 2.7915 - mae: 3.2378\n",
      "Epoch 10/70\n",
      "78/78 [==============================] - 2s 22ms/step - loss: 2.6531 - mae: 3.0975\n",
      "Epoch 11/70\n",
      "78/78 [==============================] - 2s 21ms/step - loss: 2.5357 - mae: 2.9759\n",
      "Epoch 12/70\n",
      "78/78 [==============================] - 2s 22ms/step - loss: 2.4682 - mae: 2.9096\n",
      "Epoch 13/70\n",
      "78/78 [==============================] - 2s 22ms/step - loss: 2.4168 - mae: 2.8560\n",
      "Epoch 14/70\n",
      "78/78 [==============================] - 2s 22ms/step - loss: 2.3842 - mae: 2.8261\n",
      "Epoch 15/70\n",
      "78/78 [==============================] - 2s 22ms/step - loss: 2.3401 - mae: 2.7782\n",
      "Epoch 16/70\n",
      "78/78 [==============================] - 2s 22ms/step - loss: 2.3181 - mae: 2.7562\n",
      "Epoch 17/70\n",
      "78/78 [==============================] - 2s 22ms/step - loss: 2.2760 - mae: 2.7115\n",
      "Epoch 18/70\n",
      "78/78 [==============================] - 2s 21ms/step - loss: 2.2591 - mae: 2.6932\n",
      "Epoch 19/70\n",
      "78/78 [==============================] - 2s 22ms/step - loss: 2.2272 - mae: 2.6629\n",
      "Epoch 20/70\n",
      "78/78 [==============================] - 2s 21ms/step - loss: 2.2091 - mae: 2.6440\n",
      "Epoch 21/70\n",
      "78/78 [==============================] - 2s 22ms/step - loss: 2.1935 - mae: 2.6247\n",
      "Epoch 22/70\n",
      "78/78 [==============================] - 2s 22ms/step - loss: 2.1824 - mae: 2.6169\n",
      "Epoch 23/70\n",
      "78/78 [==============================] - 2s 22ms/step - loss: 2.1626 - mae: 2.5954\n",
      "Epoch 24/70\n",
      "78/78 [==============================] - 2s 21ms/step - loss: 2.1393 - mae: 2.5706\n",
      "Epoch 25/70\n",
      "78/78 [==============================] - 2s 22ms/step - loss: 2.1408 - mae: 2.5714\n",
      "Epoch 26/70\n",
      "78/78 [==============================] - 2s 21ms/step - loss: 2.1228 - mae: 2.5486\n",
      "Epoch 27/70\n",
      "78/78 [==============================] - 2s 21ms/step - loss: 2.1132 - mae: 2.5421\n",
      "Epoch 28/70\n",
      "78/78 [==============================] - 2s 22ms/step - loss: 2.0907 - mae: 2.5202\n",
      "Epoch 29/70\n",
      "78/78 [==============================] - 2s 22ms/step - loss: 2.0819 - mae: 2.5114\n",
      "Epoch 30/70\n",
      "78/78 [==============================] - 2s 21ms/step - loss: 2.0757 - mae: 2.5037\n",
      "Epoch 31/70\n",
      "78/78 [==============================] - 2s 21ms/step - loss: 2.0631 - mae: 2.4918\n",
      "Epoch 32/70\n",
      "78/78 [==============================] - 2s 22ms/step - loss: 2.0587 - mae: 2.4901\n",
      "Epoch 33/70\n",
      "78/78 [==============================] - 2s 22ms/step - loss: 2.0537 - mae: 2.4850\n",
      "Epoch 34/70\n",
      "78/78 [==============================] - 2s 21ms/step - loss: 2.0345 - mae: 2.4633\n",
      "Epoch 35/70\n",
      "78/78 [==============================] - 2s 22ms/step - loss: 2.0283 - mae: 2.4570\n",
      "Epoch 36/70\n",
      "78/78 [==============================] - 2s 22ms/step - loss: 2.0191 - mae: 2.4476\n",
      "Epoch 37/70\n",
      "78/78 [==============================] - 2s 23ms/step - loss: 2.0176 - mae: 2.4467\n",
      "Epoch 38/70\n",
      "78/78 [==============================] - 2s 22ms/step - loss: 2.0043 - mae: 2.4319\n",
      "Epoch 39/70\n",
      "78/78 [==============================] - 2s 22ms/step - loss: 2.0146 - mae: 2.4426\n",
      "Epoch 40/70\n",
      "78/78 [==============================] - 2s 22ms/step - loss: 1.9941 - mae: 2.4229\n",
      "Epoch 41/70\n",
      "78/78 [==============================] - 2s 22ms/step - loss: 1.9891 - mae: 2.4165\n",
      "Epoch 42/70\n",
      "78/78 [==============================] - 2s 21ms/step - loss: 1.9801 - mae: 2.4059\n",
      "Epoch 43/70\n",
      "78/78 [==============================] - 2s 22ms/step - loss: 1.9751 - mae: 2.4020\n",
      "Epoch 44/70\n",
      "78/78 [==============================] - 2s 22ms/step - loss: 1.9738 - mae: 2.3984\n",
      "Epoch 45/70\n",
      "78/78 [==============================] - 2s 22ms/step - loss: 1.9621 - mae: 2.3871\n",
      "Epoch 46/70\n",
      "78/78 [==============================] - 2s 21ms/step - loss: 1.9626 - mae: 2.3888\n",
      "Epoch 47/70\n",
      "78/78 [==============================] - 2s 21ms/step - loss: 1.9568 - mae: 2.3809\n",
      "Epoch 48/70\n",
      "78/78 [==============================] - 2s 21ms/step - loss: 1.9543 - mae: 2.3766\n",
      "Epoch 49/70\n",
      "78/78 [==============================] - 2s 21ms/step - loss: 1.9454 - mae: 2.3694\n",
      "Epoch 50/70\n",
      "78/78 [==============================] - 2s 22ms/step - loss: 1.9428 - mae: 2.3677\n",
      "Epoch 51/70\n",
      "78/78 [==============================] - 2s 22ms/step - loss: 1.9374 - mae: 2.3606\n",
      "Epoch 52/70\n",
      "78/78 [==============================] - 2s 21ms/step - loss: 1.9366 - mae: 2.3616\n",
      "Epoch 53/70\n",
      "78/78 [==============================] - 2s 21ms/step - loss: 1.9352 - mae: 2.3598\n",
      "Epoch 54/70\n",
      "78/78 [==============================] - 2s 22ms/step - loss: 1.9259 - mae: 2.3495\n",
      "Epoch 55/70\n",
      "78/78 [==============================] - 2s 22ms/step - loss: 1.9234 - mae: 2.3475\n",
      "Epoch 56/70\n",
      "78/78 [==============================] - 2s 22ms/step - loss: 1.9185 - mae: 2.3419\n",
      "Epoch 57/70\n",
      "78/78 [==============================] - 2s 22ms/step - loss: 1.9158 - mae: 2.3382\n",
      "Epoch 58/70\n",
      "78/78 [==============================] - 2s 21ms/step - loss: 1.9097 - mae: 2.3329\n",
      "Epoch 59/70\n",
      "78/78 [==============================] - 2s 22ms/step - loss: 1.9128 - mae: 2.3358\n",
      "Epoch 60/70\n",
      "78/78 [==============================] - 2s 22ms/step - loss: 1.9265 - mae: 2.3530\n",
      "Epoch 61/70\n",
      "78/78 [==============================] - 2s 21ms/step - loss: 1.9158 - mae: 2.3404\n",
      "Epoch 62/70\n",
      "78/78 [==============================] - 2s 22ms/step - loss: 1.9163 - mae: 2.3426\n",
      "Epoch 63/70\n",
      "78/78 [==============================] - 2s 21ms/step - loss: 1.9000 - mae: 2.3235\n",
      "Epoch 64/70\n",
      "78/78 [==============================] - 2s 22ms/step - loss: 1.8931 - mae: 2.3139\n",
      "Epoch 65/70\n",
      "78/78 [==============================] - 2s 21ms/step - loss: 1.8973 - mae: 2.3196\n",
      "Epoch 66/70\n",
      "78/78 [==============================] - 2s 22ms/step - loss: 1.8811 - mae: 2.3038\n",
      "Epoch 67/70\n",
      "78/78 [==============================] - 2s 22ms/step - loss: 1.8804 - mae: 2.3020\n",
      "Epoch 68/70\n",
      "78/78 [==============================] - 2s 22ms/step - loss: 1.8778 - mae: 2.2994\n",
      "Epoch 69/70\n",
      "78/78 [==============================] - 2s 22ms/step - loss: 1.8789 - mae: 2.2991\n",
      "Epoch 70/70\n",
      "78/78 [==============================] - 2s 22ms/step - loss: 1.8768 - mae: 2.2988\n"
     ]
    }
   ],
   "source": [
    "tf.keras.backend.clear_session()\n",
    "tf.compat.v2.random.set_seed(51)\n",
    "np.random.seed(51)\n",
    "train_set = windowed_dataset(x_train, window_size=60, batch_size=100, shuffle_buffer=shuffle_buffer_size)\n",
    "model = tf.keras.models.Sequential([\n",
    "  tf.keras.layers.Conv1D(filters=60, kernel_size=5,\n",
    "                      strides=1, padding=\"causal\",\n",
    "                      activation=\"relu\",\n",
    "                      input_shape=[None,1]),\n",
    "  tf.keras.layers.LSTM(60, return_sequences=True),\n",
    "  tf.keras.layers.LSTM(60, return_sequences=True),\n",
    "  tf.keras.layers.Dense(30, activation=\"relu\"),\n",
    "  tf.keras.layers.Dense(10, activation=\"relu\"),\n",
    "  tf.keras.layers.Dense(1),\n",
    "  tf.keras.layers.Lambda(lambda x: x * 400)\n",
    "])\n",
    "\n",
    "\n",
    "optimizer = tf.keras.optimizers.SGD(lr=1e-6, momentum=0.9)\n",
    "model.compile(loss=tf.keras.losses.Huber(),\n",
    "              optimizer=optimizer,\n",
    "              metrics=[\"mae\"])\n",
    "history = model.fit(train_set,epochs=70)"
   ]
  },
  {
   "cell_type": "code",
   "execution_count": 0,
   "metadata": {
    "colab": {},
    "colab_type": "code",
    "id": "OW_7c7w9A7Nb"
   },
   "outputs": [],
   "source": [
    "rnn_forecast = model_forecast(model, series[..., np.newaxis], window_size)\n",
    "rnn_forecast = rnn_forecast[split_time - window_size:-1, -1, 0]"
   ]
  },
  {
   "cell_type": "code",
   "execution_count": 0,
   "metadata": {
    "colab": {},
    "colab_type": "code",
    "id": "UUsqCHREBEA4"
   },
   "outputs": [],
   "source": [
    "#plt.figure(figsize=(10, 6))\n",
    "#plot_series(time_valid, x_valid)\n",
    "#plot_series(time_valid, rnn_forecast)"
   ]
  },
  {
   "cell_type": "code",
   "execution_count": 0,
   "metadata": {
    "colab": {
     "base_uri": "https://localhost:8080/",
     "height": 374
    },
    "colab_type": "code",
    "id": "nMrUU1Pe89hN",
    "outputId": "6b676be5-937d-4fc4-ad83-cf375aeac7b3"
   },
   "outputs": [
    {
     "data": {
      "image/png": "[encoded data removed]",
      "text/plain": [
       "<Figure size 720x432 with 1 Axes>"
      ]
     },
     "metadata": {
      "tags": []
     },
     "output_type": "display_data"
    }
   ],
   "source": [
    "pyplot.figure(figsize=(10, 6))\n",
    "pyplot.plot( x_valid)\n",
    "pyplot.plot(rnn_forecast)\n",
    "pyplot.show()\n"
   ]
  },
  {
   "cell_type": "code",
   "execution_count": 0,
   "metadata": {
    "colab": {
     "base_uri": "https://localhost:8080/",
     "height": 265
    },
    "colab_type": "code",
    "id": "N7C6yerLjRNh",
    "outputId": "af3f4567-2376-46b9-ad8b-f66c4c5eb9e3"
   },
   "outputs": [
    {
     "data": {
      "image/png": "[encoded data removed]",
      "text/plain": [
       "<Figure size 432x288 with 1 Axes>"
      ]
     },
     "metadata": {
      "tags": []
     },
     "output_type": "display_data"
    }
   ],
   "source": [
    "pyplot.plot(x_valid[-100:])\n",
    "pyplot.plot(rnn_forecast[-100:])\n",
    "pyplot.show()"
   ]
  },
  {
   "cell_type": "code",
   "execution_count": 0,
   "metadata": {
    "colab": {
     "base_uri": "https://localhost:8080/",
     "height": 88
    },
    "colab_type": "code",
    "id": "63jwPr702VYK",
    "outputId": "b513c99c-bc40-440a-ed83-43892dad5a00"
   },
   "outputs": [
    {
     "name": "stdout",
     "output_type": "stream",
     "text": [
      "MAE Error: 2.466151943\n",
      "MSE Error : 18.36779643\n",
      "RMSE Error: 4.285766726\n",
      "MAPE Error: 6.017219084\n"
     ]
    }
   ],
   "source": [
    "from sklearn.metrics import mean_absolute_error\n",
    "from statsmodels.tools.eval_measures import mse,rmse\n",
    "error1 = mse(x_valid, rnn_forecast)\n",
    "error2 = rmse(x_valid, rnn_forecast)\n",
    "error3 = mean_absolute_error(x_valid, rnn_forecast)\n",
    "\n",
    "def mean_absolute_percentage_error(y_true, y_pred): \n",
    "    y_true, y_pred = np.array(x_valid), np.array(rnn_forecast)\n",
    "    return np.mean(np.abs((y_true - y_pred) / y_true)) * 100\n",
    "error4 = mean_absolute_percentage_error(x_valid, rnn_forecast)\n",
    "\n",
    "print(f'MAE Error: {error3:11.10}') \n",
    "print(f'MSE Error : {error1:11.10}')\n",
    "print(f'RMSE Error: {error2:11.10}')\n",
    "print(f'MAPE Error: {error4:11.10}')\n"
   ]
  },
  {
   "cell_type": "code",
   "execution_count": 0,
   "metadata": {
    "colab": {
     "base_uri": "https://localhost:8080/",
     "height": 348
    },
    "colab_type": "code",
    "id": "AyliXNOJBGQr",
    "outputId": "c17c5c27-4c7d-47f4-9fa9-a837b45d5820"
   },
   "outputs": [
    {
     "data": {
      "text/plain": [
       "<Figure size 432x288 with 0 Axes>"
      ]
     },
     "execution_count": 36,
     "metadata": {
      "tags": []
     },
     "output_type": "execute_result"
    },
    {
     "data": {
      "image/png": "[encoded data removed]",
      "text/plain": [
       "<Figure size 432x288 with 1 Axes>"
      ]
     },
     "metadata": {
      "tags": []
     },
     "output_type": "display_data"
    },
    {
     "data": {
      "text/plain": [
       "<Figure size 432x288 with 0 Axes>"
      ]
     },
     "metadata": {
      "tags": []
     },
     "output_type": "display_data"
    },
    {
     "data": {
      "text/plain": [
       "<Figure size 432x288 with 0 Axes>"
      ]
     },
     "metadata": {
      "tags": []
     },
     "output_type": "display_data"
    }
   ],
   "source": [
    "import matplotlib.image  as mpimg\n",
    "import matplotlib.pyplot as plt\n",
    "\n",
    "#-----------------------------------------------------------\n",
    "# Retrieve a list of list results on training and test data\n",
    "# sets for each training epoch\n",
    "#-----------------------------------------------------------\n",
    "mae=history.history['mae']\n",
    "loss=history.history['loss']\n",
    "\n",
    "epochs=range(len(loss)) # Get number of epochs\n",
    "\n",
    "#------------------------------------------------\n",
    "# Plot MAE and Loss\n",
    "#------------------------------------------------\n",
    "plt.plot(epochs, mae, 'r')\n",
    "plt.plot(epochs, loss, 'b')\n",
    "plt.title('MAE and Loss')\n",
    "plt.xlabel(\"Epochs\")\n",
    "plt.ylabel(\"Accuracy\")\n",
    "plt.legend([\"MAE\", \"Loss\"])\n",
    "\n",
    "plt.figure()\n",
    "\n",
    "plt.figure()\n"
   ]
  },
  {
   "cell_type": "markdown",
   "metadata": {
    "colab_type": "text",
    "id": "8n6ya4UCHbU8"
   },
   "source": [
    "# 3. The model with only LSTM:"
   ]
  },
  {
   "cell_type": "code",
   "execution_count": 0,
   "metadata": {
    "colab": {},
    "colab_type": "code",
    "id": "ds9ur9QSHadI"
   },
   "outputs": [],
   "source": [
    "def windowed_dataset(series, window_size, batch_size, shuffle_buffer):\n",
    "  dataset = tf.data.Dataset.from_tensor_slices(series)\n",
    "  dataset = dataset.window(window_size + 1, shift=1, drop_remainder=True)\n",
    "  dataset = dataset.flat_map(lambda window: window.batch(window_size + 1))\n",
    "  dataset = dataset.shuffle(shuffle_buffer).map(lambda window: (window[:-1], window[-1]))\n",
    "  dataset = dataset.batch(batch_size).prefetch(1)\n",
    "  return dataset"
   ]
  },
  {
   "cell_type": "code",
   "execution_count": 21,
   "metadata": {
    "colab": {
     "base_uri": "https://localhost:8080/",
     "height": 1000
    },
    "colab_type": "code",
    "id": "DaqsOnFoH2Tk",
    "outputId": "f7cc47b5-ed67-4731-c131-eb5a77025cd7"
   },
   "outputs": [
    {
     "name": "stdout",
     "output_type": "stream",
     "text": [
      "Epoch 1/60\n",
      "244/244 [==============================] - 8s 32ms/step - loss: 16.8610 - mae: 17.3707\n",
      "Epoch 2/60\n",
      "244/244 [==============================] - 3s 13ms/step - loss: 11.3207 - mae: 11.8217\n",
      "Epoch 3/60\n",
      "244/244 [==============================] - 3s 13ms/step - loss: 9.5324 - mae: 10.0004\n",
      "Epoch 4/60\n",
      "244/244 [==============================] - 3s 13ms/step - loss: 8.7999 - mae: 9.3052\n",
      "Epoch 5/60\n",
      "244/244 [==============================] - 3s 13ms/step - loss: 8.5293 - mae: 9.0248\n",
      "Epoch 6/60\n",
      "244/244 [==============================] - 3s 13ms/step - loss: 8.3931 - mae: 8.8821\n",
      "Epoch 7/60\n",
      "244/244 [==============================] - 3s 13ms/step - loss: 8.2997 - mae: 8.7890\n",
      "Epoch 8/60\n",
      "244/244 [==============================] - 3s 13ms/step - loss: 8.2042 - mae: 8.7068\n",
      "Epoch 9/60\n",
      "244/244 [==============================] - 3s 13ms/step - loss: 8.1418 - mae: 8.6433\n",
      "Epoch 10/60\n",
      "244/244 [==============================] - 3s 13ms/step - loss: 8.1284 - mae: 8.5851\n",
      "Epoch 11/60\n",
      "244/244 [==============================] - 3s 13ms/step - loss: 8.0189 - mae: 8.5182\n",
      "Epoch 12/60\n",
      "244/244 [==============================] - 3s 13ms/step - loss: 7.9130 - mae: 8.4059\n",
      "Epoch 13/60\n",
      "244/244 [==============================] - 3s 13ms/step - loss: 7.8848 - mae: 8.3721\n",
      "Epoch 14/60\n",
      "244/244 [==============================] - 3s 13ms/step - loss: 7.7590 - mae: 8.2108\n",
      "Epoch 15/60\n",
      "244/244 [==============================] - 3s 13ms/step - loss: 7.5985 - mae: 8.0922\n",
      "Epoch 16/60\n",
      "244/244 [==============================] - 3s 13ms/step - loss: 8.4339 - mae: 8.9333\n",
      "Epoch 17/60\n",
      "244/244 [==============================] - 3s 13ms/step - loss: 8.3093 - mae: 8.7872\n",
      "Epoch 18/60\n",
      "244/244 [==============================] - 3s 13ms/step - loss: 8.1710 - mae: 8.6545\n",
      "Epoch 19/60\n",
      "244/244 [==============================] - 3s 13ms/step - loss: 8.0062 - mae: 8.5002\n",
      "Epoch 20/60\n",
      "244/244 [==============================] - 3s 13ms/step - loss: 7.8417 - mae: 8.3237\n",
      "Epoch 21/60\n",
      "244/244 [==============================] - 3s 13ms/step - loss: 7.6777 - mae: 8.1589\n",
      "Epoch 22/60\n",
      "244/244 [==============================] - 3s 13ms/step - loss: 7.5169 - mae: 8.0094\n",
      "Epoch 23/60\n",
      "244/244 [==============================] - 3s 13ms/step - loss: 7.4679 - mae: 7.8663\n",
      "Epoch 24/60\n",
      "244/244 [==============================] - 3s 13ms/step - loss: 7.2490 - mae: 7.7280\n",
      "Epoch 25/60\n",
      "244/244 [==============================] - 3s 13ms/step - loss: 7.0866 - mae: 7.5834\n",
      "Epoch 26/60\n",
      "244/244 [==============================] - 3s 13ms/step - loss: 6.9579 - mae: 7.4370\n",
      "Epoch 27/60\n",
      "244/244 [==============================] - 3s 13ms/step - loss: 6.7913 - mae: 7.2783\n",
      "Epoch 28/60\n",
      "244/244 [==============================] - 3s 13ms/step - loss: 6.6149 - mae: 7.1190\n",
      "Epoch 29/60\n",
      "244/244 [==============================] - 3s 13ms/step - loss: 6.4671 - mae: 6.9446\n",
      "Epoch 30/60\n",
      "244/244 [==============================] - 3s 13ms/step - loss: 6.2889 - mae: 6.7739\n",
      "Epoch 31/60\n",
      "244/244 [==============================] - 3s 13ms/step - loss: 6.1170 - mae: 6.6009\n",
      "Epoch 32/60\n",
      "244/244 [==============================] - 3s 13ms/step - loss: 5.9582 - mae: 6.4307\n",
      "Epoch 33/60\n",
      "244/244 [==============================] - 3s 13ms/step - loss: 5.8181 - mae: 6.2982\n",
      "Epoch 34/60\n",
      "244/244 [==============================] - 3s 13ms/step - loss: 5.6356 - mae: 6.1217\n",
      "Epoch 35/60\n",
      "244/244 [==============================] - 3s 13ms/step - loss: 5.5041 - mae: 5.9952\n",
      "Epoch 36/60\n",
      "244/244 [==============================] - 3s 13ms/step - loss: 5.3768 - mae: 5.8669\n",
      "Epoch 37/60\n",
      "244/244 [==============================] - 3s 13ms/step - loss: 5.2771 - mae: 5.7336\n",
      "Epoch 38/60\n",
      "244/244 [==============================] - 3s 13ms/step - loss: 5.1073 - mae: 5.5924\n",
      "Epoch 39/60\n",
      "244/244 [==============================] - 3s 13ms/step - loss: 4.9661 - mae: 5.4453\n",
      "Epoch 40/60\n",
      "244/244 [==============================] - 3s 13ms/step - loss: 4.8473 - mae: 5.3174\n",
      "Epoch 41/60\n",
      "244/244 [==============================] - 3s 13ms/step - loss: 4.6723 - mae: 5.1462\n",
      "Epoch 42/60\n",
      "244/244 [==============================] - 3s 13ms/step - loss: 4.4953 - mae: 4.9801\n",
      "Epoch 43/60\n",
      "244/244 [==============================] - 3s 13ms/step - loss: 4.3643 - mae: 4.8426\n",
      "Epoch 44/60\n",
      "244/244 [==============================] - 3s 13ms/step - loss: 4.2781 - mae: 4.7566\n",
      "Epoch 45/60\n",
      "244/244 [==============================] - 3s 13ms/step - loss: 4.1163 - mae: 4.5941\n",
      "Epoch 46/60\n",
      "244/244 [==============================] - 3s 13ms/step - loss: 3.9866 - mae: 4.4570\n",
      "Epoch 47/60\n",
      "244/244 [==============================] - 3s 13ms/step - loss: 3.8517 - mae: 4.3273\n",
      "Epoch 48/60\n",
      "244/244 [==============================] - 3s 13ms/step - loss: 3.7615 - mae: 4.2308\n",
      "Epoch 49/60\n",
      "244/244 [==============================] - 3s 13ms/step - loss: 3.6325 - mae: 4.0915\n",
      "Epoch 50/60\n",
      "244/244 [==============================] - 3s 13ms/step - loss: 3.5169 - mae: 3.9886\n",
      "Epoch 51/60\n",
      "244/244 [==============================] - 3s 13ms/step - loss: 3.4086 - mae: 3.8847\n",
      "Epoch 52/60\n",
      "244/244 [==============================] - 3s 13ms/step - loss: 3.3605 - mae: 3.8273\n",
      "Epoch 53/60\n",
      "244/244 [==============================] - 3s 13ms/step - loss: 3.4030 - mae: 3.8547\n",
      "Epoch 54/60\n",
      "244/244 [==============================] - 3s 13ms/step - loss: 3.1784 - mae: 3.6427\n",
      "Epoch 55/60\n",
      "244/244 [==============================] - 3s 13ms/step - loss: 3.0269 - mae: 3.4882\n",
      "Epoch 56/60\n",
      "244/244 [==============================] - 3s 13ms/step - loss: 3.0926 - mae: 3.5562\n",
      "Epoch 57/60\n",
      "244/244 [==============================] - 3s 13ms/step - loss: 3.0408 - mae: 3.5023\n",
      "Epoch 58/60\n",
      "244/244 [==============================] - 3s 13ms/step - loss: 3.0843 - mae: 3.5261\n",
      "Epoch 59/60\n",
      "244/244 [==============================] - 3s 13ms/step - loss: 3.0093 - mae: 3.4726\n",
      "Epoch 60/60\n",
      "244/244 [==============================] - 3s 13ms/step - loss: 2.8513 - mae: 3.3107\n"
     ]
    }
   ],
   "source": [
    "\n",
    "tf.keras.backend.clear_session()\n",
    "tf.compat.v2.random.set_seed(51)\n",
    "np.random.seed(51)\n",
    "\n",
    "tf.keras.backend.clear_session()\n",
    "dataset = windowed_dataset(x_train, window_size, batch_size, shuffle_buffer_size)\n",
    "\n",
    "model = tf.keras.models.Sequential([\n",
    "  tf.keras.layers.Lambda(lambda x: tf.expand_dims(x, axis=-1),\n",
    "                      input_shape=[None]),\n",
    "    tf.keras.layers.Bidirectional(tf.keras.layers.LSTM(32, return_sequences=True)),\n",
    "  tf.keras.layers.Bidirectional(tf.keras.layers.LSTM(32)),\n",
    "  tf.keras.layers.Dense(1),\n",
    "  tf.keras.layers.Lambda(lambda x: x * 100.0)\n",
    "])\n",
    "\n",
    "lr_schedule = tf.keras.callbacks.LearningRateScheduler(\n",
    "    lambda epoch: 1e-8 * 10**(epoch / 20))\n",
    "optimizer = tf.keras.optimizers.SGD(lr=1e-5, momentum=0.9)\n",
    "model.compile(loss=tf.keras.losses.Huber(),\n",
    "              optimizer=optimizer,\n",
    "              metrics=[\"mae\"])\n",
    "history = model.fit(dataset, epochs=60, callbacks=[lr_schedule])"
   ]
  },
  {
   "cell_type": "code",
   "execution_count": 22,
   "metadata": {
    "colab": {
     "base_uri": "https://localhost:8080/",
     "height": 291
    },
    "colab_type": "code",
    "id": "dTTtCH7KIHRI",
    "outputId": "098b35fb-2cec-412a-fb2a-6f85cc3dcbe7"
   },
   "outputs": [
    {
     "data": {
      "text/plain": [
       "(1e-08, 0.0001, 0.0, 30.0)"
      ]
     },
     "execution_count": 22,
     "metadata": {
      "tags": []
     },
     "output_type": "execute_result"
    },
    {
     "data": {
      "image/png": "[encoded data removed]",
      "text/plain": [
       "<Figure size 432x288 with 1 Axes>"
      ]
     },
     "metadata": {
      "tags": []
     },
     "output_type": "display_data"
    }
   ],
   "source": [
    "plt.semilogx(history.history[\"lr\"], history.history[\"loss\"])\n",
    "plt.axis([1e-8, 1e-4, 0, 30])"
   ]
  },
  {
   "cell_type": "code",
   "execution_count": 0,
   "metadata": {
    "colab": {},
    "colab_type": "code",
    "id": "xZzUrWk1TTr9"
   },
   "outputs": [],
   "source": [
    "forecast = []\n",
    "res = []\n",
    "for time in range(len(series) - window_size):\n",
    "  forecast.append(model.predict(series[time:time + window_size][np.newaxis]))\n",
    "\n",
    "forecast = forecast[split_time-window_size:]\n",
    "res = np.array(forecast)[:, 0, 0]\n",
    "\n",
    "\n",
    "#plt.figure(figsize=(10, 6))\n",
    "\n",
    "#plot_series(time_valid, x_valid)\n",
    "#plot_series(time_valid, results)\n",
    "\n"
   ]
  },
  {
   "cell_type": "code",
   "execution_count": 30,
   "metadata": {
    "colab": {
     "base_uri": "https://localhost:8080/",
     "height": 374
    },
    "colab_type": "code",
    "id": "mnr_bvGVaC8a",
    "outputId": "dcf91730-033d-439a-be85-e0673631206c"
   },
   "outputs": [
    {
     "data": {
      "image/png": "[encoded data removed]",
      "text/plain": [
       "<Figure size 720x432 with 1 Axes>"
      ]
     },
     "metadata": {
      "tags": []
     },
     "output_type": "display_data"
    }
   ],
   "source": [
    "from matplotlib import pyplot\n",
    "pyplot.figure(figsize=(10, 6))\n",
    "pyplot.plot( x_valid)\n",
    "pyplot.plot(res)\n",
    "pyplot.show()\n"
   ]
  },
  {
   "cell_type": "code",
   "execution_count": 35,
   "metadata": {
    "colab": {
     "base_uri": "https://localhost:8080/",
     "height": 265
    },
    "colab_type": "code",
    "id": "3YFfpLr2bjaT",
    "outputId": "5f8f9240-355b-46a0-cb65-64e564b90db4"
   },
   "outputs": [
    {
     "data": {
      "image/png": "[encoded data removed]",
      "text/plain": [
       "<Figure size 432x288 with 1 Axes>"
      ]
     },
     "metadata": {
      "tags": []
     },
     "output_type": "display_data"
    }
   ],
   "source": [
    "pyplot.plot(x_valid[-100:])\n",
    "pyplot.plot(res[-100:])\n",
    "pyplot.show()"
   ]
  },
  {
   "cell_type": "code",
   "execution_count": 36,
   "metadata": {
    "colab": {
     "base_uri": "https://localhost:8080/",
     "height": 88
    },
    "colab_type": "code",
    "id": "i6dWCS_dTUp-",
    "outputId": "d6e6cc45-aec5-40e9-cef0-91fb753cce9c"
   },
   "outputs": [
    {
     "name": "stdout",
     "output_type": "stream",
     "text": [
      "MAE Error: 2.970674384\n",
      "MSE Error :   28.724103\n",
      "RMSE Error: 5.359487195\n",
      "MAPE Error: 7.117049726\n"
     ]
    }
   ],
   "source": [
    "from sklearn.metrics import mean_absolute_error\n",
    "from statsmodels.tools.eval_measures import mse,rmse\n",
    "error1 = mse(x_valid, res)\n",
    "error2 = rmse(x_valid, res)\n",
    "error3 = mean_absolute_error(x_valid, res)\n",
    "\n",
    "def mean_absolute_percentage_error(y_true, y_pred): \n",
    "    y_true, y_pred = np.array(x_valid), np.array(res)\n",
    "    return np.mean(np.abs((y_true - y_pred) / y_true)) * 100\n",
    "error4 = mean_absolute_percentage_error(x_valid, res)\n",
    "\n",
    "print(f'MAE Error: {error3:11.10}') \n",
    "print(f'MSE Error : {error1:11.10}')\n",
    "print(f'RMSE Error: {error2:11.10}')\n",
    "print(f'MAPE Error: {error4:11.10}')"
   ]
  },
  {
   "cell_type": "code",
   "execution_count": 37,
   "metadata": {
    "colab": {
     "base_uri": "https://localhost:8080/",
     "height": 348
    },
    "colab_type": "code",
    "id": "CKeOYai_TZYP",
    "outputId": "126bc4ba-77af-4051-cb38-36c2b31889d5"
   },
   "outputs": [
    {
     "data": {
      "text/plain": [
       "<Figure size 432x288 with 0 Axes>"
      ]
     },
     "execution_count": 37,
     "metadata": {
      "tags": []
     },
     "output_type": "execute_result"
    },
    {
     "data": {
      "image/png": "[encoded data removed]",
      "text/plain": [
       "<Figure size 432x288 with 1 Axes>"
      ]
     },
     "metadata": {
      "tags": []
     },
     "output_type": "display_data"
    },
    {
     "data": {
      "text/plain": [
       "<Figure size 432x288 with 0 Axes>"
      ]
     },
     "metadata": {
      "tags": []
     },
     "output_type": "display_data"
    },
    {
     "data": {
      "text/plain": [
       "<Figure size 432x288 with 0 Axes>"
      ]
     },
     "metadata": {
      "tags": []
     },
     "output_type": "display_data"
    }
   ],
   "source": [
    "import matplotlib.image  as mpimg\n",
    "import matplotlib.pyplot as plt\n",
    "\n",
    "#-----------------------------------------------------------\n",
    "# Retrieve a list of list results on training and test data\n",
    "# sets for each training epoch\n",
    "#-----------------------------------------------------------\n",
    "mae=history.history['mae']\n",
    "loss=history.history['loss']\n",
    "\n",
    "epochs=range(len(loss)) # Get number of epochs\n",
    "\n",
    "#------------------------------------------------\n",
    "# Plot MAE and Loss\n",
    "#------------------------------------------------\n",
    "plt.plot(epochs, mae, 'r')\n",
    "plt.plot(epochs, loss, 'b')\n",
    "plt.title('MAE and Loss')\n",
    "plt.xlabel(\"Epochs\")\n",
    "plt.ylabel(\"Accuracy\")\n",
    "plt.legend([\"MAE\", \"Loss\"])\n",
    "\n",
    "plt.figure()\n",
    "\n",
    "plt.figure()"
   ]
  },
  {
   "cell_type": "code",
   "execution_count": 0,
   "metadata": {
    "colab": {},
    "colab_type": "code",
    "id": "rq0ausTG0C6F"
   },
   "outputs": [],
   "source": []
  }
 ],
 "metadata": {
  "accelerator": "GPU",
  "colab": {
   "collapsed_sections": [],
   "name": "Untitled2.ipynb",
   "provenance": [],
   "toc_visible": true
  },
  "kernelspec": {
   "display_name": "Python 3",
   "language": "python",
   "name": "python3"
  },
  "language_info": {
   "codemirror_mode": {
    "name": "ipython",
    "version": 3
   },
   "file_extension": ".py",
   "mimetype": "text/x-python",
   "name": "python",
   "nbconvert_exporter": "python",
   "pygments_lexer": "ipython3",
   "version": "3.7.6"
  }
 },
 "nbformat": 4,
 "nbformat_minor": 1
}
