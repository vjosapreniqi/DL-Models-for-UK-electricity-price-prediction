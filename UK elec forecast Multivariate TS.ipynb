{
 "cells": [
  {
   "cell_type": "markdown",
   "metadata": {},
   "source": [
    "# Forecasting UK Electricity prices with LSTM and CNN+LSTM for Multivariate time series "
   ]
  },
  {
   "cell_type": "code",
   "execution_count": 0,
   "metadata": {
    "colab": {},
    "colab_type": "code",
    "id": "KYudArM4DpLF"
   },
   "outputs": [],
   "source": [
    "import pandas as pd\n",
    "from datetime import datetime\n",
    "import numpy as np"
   ]
  },
  {
   "cell_type": "code",
   "execution_count": 1,
   "metadata": {
    "colab": {
     "base_uri": "https://localhost:8080/",
     "height": 35
    },
    "colab_type": "code",
    "id": "KFjUbalYR2Ei",
    "outputId": "4af50fa8-255c-4908-f90a-9f99100319a7"
   },
   "outputs": [
    {
     "name": "stdout",
     "output_type": "stream",
     "text": [
      "TensorFlow 2.x selected.\n"
     ]
    }
   ],
   "source": [
    "try:\n",
    "  # %tensorflow_version only exists in Colab.\n",
    "  %tensorflow_version 2.x\n",
    "except Exception:\n",
    "  pass\n"
   ]
  },
  {
   "cell_type": "code",
   "execution_count": 0,
   "metadata": {
    "colab": {},
    "colab_type": "code",
    "id": "XbXJ_rb5R5AM"
   },
   "outputs": [],
   "source": [
    "import tensorflow as tf"
   ]
  },
  {
   "cell_type": "code",
   "execution_count": 3,
   "metadata": {
    "colab": {
     "base_uri": "https://localhost:8080/",
     "height": 35
    },
    "colab_type": "code",
    "id": "5dg4LtrBIwv9",
    "outputId": "e498ae8d-5bc7-4c1a-a373-c6d648eef325"
   },
   "outputs": [
    {
     "name": "stderr",
     "output_type": "stream",
     "text": [
      "Using TensorFlow backend.\n"
     ]
    }
   ],
   "source": [
    "from math import sqrt\n",
    "from numpy import concatenate\n",
    "from matplotlib import pyplot\n",
    "from pandas import read_csv\n",
    "from pandas import DataFrame\n",
    "from pandas import concat\n",
    "from sklearn.preprocessing import MinMaxScaler\n",
    "from sklearn.preprocessing import LabelEncoder\n",
    "from sklearn.metrics import mean_squared_error\n",
    "from keras.models import Sequential\n",
    "from keras.layers import Dense\n",
    "from keras.layers import LSTM\n"
   ]
  },
  {
   "cell_type": "code",
   "execution_count": 4,
   "metadata": {
    "colab": {
     "base_uri": "https://localhost:8080/",
     "height": 238
    },
    "colab_type": "code",
    "id": "XakqBtXKEBXC",
    "outputId": "c46845ce-8a7c-4fba-86ed-7939c1f283d3"
   },
   "outputs": [
    {
     "data": {
      "text/html": [
       "<div>\n",
       "<style scoped>\n",
       "    .dataframe tbody tr th:only-of-type {\n",
       "        vertical-align: middle;\n",
       "    }\n",
       "\n",
       "    .dataframe tbody tr th {\n",
       "        vertical-align: top;\n",
       "    }\n",
       "\n",
       "    .dataframe thead th {\n",
       "        text-align: right;\n",
       "    }\n",
       "</style>\n",
       "<table border=\"1\" class=\"dataframe\">\n",
       "  <thead>\n",
       "    <tr style=\"text-align: right;\">\n",
       "      <th></th>\n",
       "      <th>Price</th>\n",
       "      <th>Volume</th>\n",
       "      <th>Settlement Period</th>\n",
       "      <th>hour</th>\n",
       "      <th>quarter</th>\n",
       "      <th>year</th>\n",
       "      <th>dayofyear</th>\n",
       "      <th>dayofmonth</th>\n",
       "      <th>weekofyear</th>\n",
       "      <th>SAP</th>\n",
       "      <th>EU_ETS</th>\n",
       "      <th>Gas</th>\n",
       "      <th>INDO</th>\n",
       "    </tr>\n",
       "    <tr>\n",
       "      <th>datetime</th>\n",
       "      <th></th>\n",
       "      <th></th>\n",
       "      <th></th>\n",
       "      <th></th>\n",
       "      <th></th>\n",
       "      <th></th>\n",
       "      <th></th>\n",
       "      <th></th>\n",
       "      <th></th>\n",
       "      <th></th>\n",
       "      <th></th>\n",
       "      <th></th>\n",
       "      <th></th>\n",
       "    </tr>\n",
       "  </thead>\n",
       "  <tbody>\n",
       "    <tr>\n",
       "      <th>2017-01-01 00:00:00</th>\n",
       "      <td>44.90</td>\n",
       "      <td>505.00</td>\n",
       "      <td>1</td>\n",
       "      <td>0.0</td>\n",
       "      <td>1.0</td>\n",
       "      <td>2017.0</td>\n",
       "      <td>1.0</td>\n",
       "      <td>1.0</td>\n",
       "      <td>52.0</td>\n",
       "      <td>16.95</td>\n",
       "      <td>1.033832</td>\n",
       "      <td>21.294832</td>\n",
       "      <td>27239</td>\n",
       "    </tr>\n",
       "    <tr>\n",
       "      <th>2017-01-01 00:30:00</th>\n",
       "      <td>47.13</td>\n",
       "      <td>559.15</td>\n",
       "      <td>2</td>\n",
       "      <td>0.0</td>\n",
       "      <td>1.0</td>\n",
       "      <td>2017.0</td>\n",
       "      <td>1.0</td>\n",
       "      <td>1.0</td>\n",
       "      <td>52.0</td>\n",
       "      <td>16.95</td>\n",
       "      <td>1.033832</td>\n",
       "      <td>21.294832</td>\n",
       "      <td>27814</td>\n",
       "    </tr>\n",
       "    <tr>\n",
       "      <th>2017-01-01 01:00:00</th>\n",
       "      <td>45.62</td>\n",
       "      <td>649.35</td>\n",
       "      <td>3</td>\n",
       "      <td>1.0</td>\n",
       "      <td>1.0</td>\n",
       "      <td>2017.0</td>\n",
       "      <td>1.0</td>\n",
       "      <td>1.0</td>\n",
       "      <td>52.0</td>\n",
       "      <td>16.95</td>\n",
       "      <td>1.033832</td>\n",
       "      <td>21.294832</td>\n",
       "      <td>27453</td>\n",
       "    </tr>\n",
       "  </tbody>\n",
       "</table>\n",
       "</div>"
      ],
      "text/plain": [
       "                     Price  Volume  ...        Gas   INDO\n",
       "datetime                            ...                  \n",
       "2017-01-01 00:00:00  44.90  505.00  ...  21.294832  27239\n",
       "2017-01-01 00:30:00  47.13  559.15  ...  21.294832  27814\n",
       "2017-01-01 01:00:00  45.62  649.35  ...  21.294832  27453\n",
       "\n",
       "[3 rows x 13 columns]"
      ]
     },
     "execution_count": 4,
     "metadata": {
      "tags": []
     },
     "output_type": "execute_result"
    }
   ],
   "source": [
    "df=pd.read_csv(\"electricity-prices.csv\",index_col=[0], parse_dates=[0])\n",
    "df.head(3)"
   ]
  },
  {
   "cell_type": "code",
   "execution_count": 0,
   "metadata": {
    "colab": {},
    "colab_type": "code",
    "id": "u-5hj-jkECVZ"
   },
   "outputs": [],
   "source": [
    "def limit(data, frm, to):\n",
    "    return data[(data.index>=frm)&(data.index<to)]"
   ]
  },
  {
   "cell_type": "code",
   "execution_count": 6,
   "metadata": {
    "colab": {
     "base_uri": "https://localhost:8080/",
     "height": 35
    },
    "colab_type": "code",
    "id": "Vzxe-ws-ELwv",
    "outputId": "64f861db-d535-4409-f9d1-baaf38c879fe"
   },
   "outputs": [
    {
     "data": {
      "text/plain": [
       "(8530, 13)"
      ]
     },
     "execution_count": 6,
     "metadata": {
      "tags": []
     },
     "output_type": "execute_result"
    }
   ],
   "source": [
    "new_df = limit(df,'2019-01-01', '2019-06-30')\n",
    "new_df.shape"
   ]
  },
  {
   "cell_type": "code",
   "execution_count": 7,
   "metadata": {
    "colab": {
     "base_uri": "https://localhost:8080/",
     "height": 170
    },
    "colab_type": "code",
    "id": "kpqhdf9LEORf",
    "outputId": "6e18f4a6-8fd9-4a96-d293-da6642d048bb"
   },
   "outputs": [
    {
     "data": {
      "text/html": [
       "<div>\n",
       "<style scoped>\n",
       "    .dataframe tbody tr th:only-of-type {\n",
       "        vertical-align: middle;\n",
       "    }\n",
       "\n",
       "    .dataframe tbody tr th {\n",
       "        vertical-align: top;\n",
       "    }\n",
       "\n",
       "    .dataframe thead th {\n",
       "        text-align: right;\n",
       "    }\n",
       "</style>\n",
       "<table border=\"1\" class=\"dataframe\">\n",
       "  <thead>\n",
       "    <tr style=\"text-align: right;\">\n",
       "      <th></th>\n",
       "      <th>Price</th>\n",
       "      <th>INDO</th>\n",
       "      <th>Gas</th>\n",
       "    </tr>\n",
       "    <tr>\n",
       "      <th>datetime</th>\n",
       "      <th></th>\n",
       "      <th></th>\n",
       "      <th></th>\n",
       "    </tr>\n",
       "  </thead>\n",
       "  <tbody>\n",
       "    <tr>\n",
       "      <th>2019-01-01 00:00:00</th>\n",
       "      <td>48.81</td>\n",
       "      <td>23712</td>\n",
       "      <td>24.560535</td>\n",
       "    </tr>\n",
       "    <tr>\n",
       "      <th>2019-01-01 00:30:00</th>\n",
       "      <td>50.24</td>\n",
       "      <td>24315</td>\n",
       "      <td>24.560535</td>\n",
       "    </tr>\n",
       "    <tr>\n",
       "      <th>2019-01-01 01:00:00</th>\n",
       "      <td>41.90</td>\n",
       "      <td>24037</td>\n",
       "      <td>24.560535</td>\n",
       "    </tr>\n",
       "  </tbody>\n",
       "</table>\n",
       "</div>"
      ],
      "text/plain": [
       "                     Price   INDO        Gas\n",
       "datetime                                    \n",
       "2019-01-01 00:00:00  48.81  23712  24.560535\n",
       "2019-01-01 00:30:00  50.24  24315  24.560535\n",
       "2019-01-01 01:00:00  41.90  24037  24.560535"
      ]
     },
     "execution_count": 7,
     "metadata": {
      "tags": []
     },
     "output_type": "execute_result"
    }
   ],
   "source": [
    "new_df = new_df[['Price', 'INDO', 'Gas']]\n",
    "new_df.head(3)"
   ]
  },
  {
   "cell_type": "code",
   "execution_count": 0,
   "metadata": {
    "colab": {},
    "colab_type": "code",
    "id": "1pioRhwSEgGs"
   },
   "outputs": [],
   "source": [
    "new_df.to_csv('small_elec.csv')"
   ]
  },
  {
   "cell_type": "code",
   "execution_count": 9,
   "metadata": {
    "colab": {
     "base_uri": "https://localhost:8080/",
     "height": 265
    },
    "colab_type": "code",
    "id": "Zog246CbEQeR",
    "outputId": "fc3f397b-772e-49c8-ce33-3a324e9cc2bf"
   },
   "outputs": [
    {
     "data": {
      "image/png": "[encoded data removed]",
      "text/plain": [
       "<Figure size 432x288 with 3 Axes>"
      ]
     },
     "metadata": {
      "tags": []
     },
     "output_type": "display_data"
    }
   ],
   "source": [
    "from pandas import read_csv\n",
    "from matplotlib import pyplot\n",
    "# load dataset\n",
    "dataset = read_csv('small_elec.csv', header=0, index_col=0)\n",
    "values = dataset.values\n",
    "# specify columns to plot\n",
    "groups = [0, 1, 2]\n",
    "i = 1\n",
    "# plot each column\n",
    "pyplot.figure()\n",
    "for group in groups:\n",
    "\tpyplot.subplot(len(groups), 1, i)\n",
    "\tpyplot.plot(values[:, group])\n",
    "\tpyplot.title(dataset.columns[group], y=0.5, loc='right')\n",
    "\ti += 1\n",
    "pyplot.show()"
   ]
  },
  {
   "cell_type": "code",
   "execution_count": 0,
   "metadata": {
    "colab": {},
    "colab_type": "code",
    "id": "CB1RUWIjE1eu"
   },
   "outputs": [],
   "source": [
    "from sklearn.preprocessing import LabelEncoder\n",
    "from sklearn.preprocessing import MinMaxScaler "
   ]
  },
  {
   "cell_type": "code",
   "execution_count": 11,
   "metadata": {
    "colab": {
     "base_uri": "https://localhost:8080/",
     "height": 35
    },
    "colab_type": "code",
    "id": "J3EefkKXFxsB",
    "outputId": "a884615c-d540-4cc8-892d-ed837e9de47f"
   },
   "outputs": [
    {
     "data": {
      "text/plain": [
       "(8530, 3)"
      ]
     },
     "execution_count": 11,
     "metadata": {
      "tags": []
     },
     "output_type": "execute_result"
    }
   ],
   "source": [
    "dataset.shape"
   ]
  },
  {
   "cell_type": "code",
   "execution_count": 12,
   "metadata": {
    "colab": {
     "base_uri": "https://localhost:8080/",
     "height": 170
    },
    "colab_type": "code",
    "id": "TQSX9DOmFy20",
    "outputId": "b8aba3db-b329-4b72-feb2-5f55445b556e"
   },
   "outputs": [
    {
     "data": {
      "text/html": [
       "<div>\n",
       "<style scoped>\n",
       "    .dataframe tbody tr th:only-of-type {\n",
       "        vertical-align: middle;\n",
       "    }\n",
       "\n",
       "    .dataframe tbody tr th {\n",
       "        vertical-align: top;\n",
       "    }\n",
       "\n",
       "    .dataframe thead th {\n",
       "        text-align: right;\n",
       "    }\n",
       "</style>\n",
       "<table border=\"1\" class=\"dataframe\">\n",
       "  <thead>\n",
       "    <tr style=\"text-align: right;\">\n",
       "      <th></th>\n",
       "      <th>Price</th>\n",
       "      <th>INDO</th>\n",
       "      <th>Gas</th>\n",
       "    </tr>\n",
       "    <tr>\n",
       "      <th>datetime</th>\n",
       "      <th></th>\n",
       "      <th></th>\n",
       "      <th></th>\n",
       "    </tr>\n",
       "  </thead>\n",
       "  <tbody>\n",
       "    <tr>\n",
       "      <th>2019-01-01 00:00:00</th>\n",
       "      <td>48.81</td>\n",
       "      <td>23712</td>\n",
       "      <td>24.560535</td>\n",
       "    </tr>\n",
       "    <tr>\n",
       "      <th>2019-01-01 00:30:00</th>\n",
       "      <td>50.24</td>\n",
       "      <td>24315</td>\n",
       "      <td>24.560535</td>\n",
       "    </tr>\n",
       "    <tr>\n",
       "      <th>2019-01-01 01:00:00</th>\n",
       "      <td>41.90</td>\n",
       "      <td>24037</td>\n",
       "      <td>24.560535</td>\n",
       "    </tr>\n",
       "  </tbody>\n",
       "</table>\n",
       "</div>"
      ],
      "text/plain": [
       "                     Price   INDO        Gas\n",
       "datetime                                    \n",
       "2019-01-01 00:00:00  48.81  23712  24.560535\n",
       "2019-01-01 00:30:00  50.24  24315  24.560535\n",
       "2019-01-01 01:00:00  41.90  24037  24.560535"
      ]
     },
     "execution_count": 12,
     "metadata": {
      "tags": []
     },
     "output_type": "execute_result"
    }
   ],
   "source": [
    "dataset.head(3)"
   ]
  },
  {
   "cell_type": "code",
   "execution_count": 0,
   "metadata": {
    "colab": {},
    "colab_type": "code",
    "id": "SzDp0Vp4F1bx"
   },
   "outputs": [],
   "source": [
    "# convert series to supervised learning\n",
    "def series_to_supervised(data, n_in=1, n_out=1, dropnan=True):\n",
    "    n_vars = 1 if type(data) is list else data.shape[1]\n",
    "    df = pd.DataFrame(data)\n",
    "    cols, names = list(), list()\n",
    "    # input sequence (t-n, ... t-1)\n",
    "    for i in range(n_in, 0, -1):\n",
    "        cols.append(df.shift(i))\n",
    "        names += [('var%d(t-%d)' % (j+1, i)) for j in range(n_vars)]\n",
    "    # forecast sequence (t, t+1, ... t+n)\n",
    "    for i in range(0, n_out):\n",
    "        cols.append(df.shift(-i))\n",
    "        if i == 0:\n",
    "            names += [('var%d(t)' % (j+1)) for j in range(n_vars)]\n",
    "    else:\n",
    "            names += [('var%d(t+%d)' % (j+1, i)) for j in range(n_vars)]\n",
    "    # put it all together\n",
    "    agg = pd.concat(cols, axis=1)\n",
    "    agg.columns = names\n",
    "    # drop rows with NaN values\n",
    "    if dropnan:\n",
    "        agg.dropna(inplace=True)\n",
    "    return agg"
   ]
  },
  {
   "cell_type": "code",
   "execution_count": 14,
   "metadata": {
    "colab": {
     "base_uri": "https://localhost:8080/",
     "height": 141
    },
    "colab_type": "code",
    "id": "DS7-OTm1GBtf",
    "outputId": "d3683114-7481-4737-cef0-eb9a15c26fdc"
   },
   "outputs": [
    {
     "name": "stdout",
     "output_type": "stream",
     "text": [
      "   var1(t-1)  var2(t-1)  var3(t-1)   var1(t)\n",
      "1   0.318158   0.229593   0.832402  0.327607\n",
      "2   0.327607   0.249464   0.832402  0.272499\n",
      "3   0.272499   0.240303   0.832402  0.255451\n",
      "4   0.255451   0.208502   0.832402  0.220893\n",
      "5   0.220893   0.179898   0.832402  0.192877\n",
      "(8528, 4)\n"
     ]
    }
   ],
   "source": [
    "# load dataset\n",
    "dataset = pd.read_csv('small_elec.csv', header=0, index_col=0)\n",
    "values = dataset.values\n",
    "# integer encode direction\n",
    "encoder = LabelEncoder()\n",
    "values[:,2] = encoder.fit_transform(values[:,2])\n",
    "# ensure all data is float\n",
    "values = values.astype('float32')\n",
    "# normalize features\n",
    "scaler = MinMaxScaler(feature_range=(0, 1))\n",
    "scaled = scaler.fit_transform(values)\n",
    "# frame as supervised learning\n",
    "reframed = series_to_supervised(scaled, 1,2)\n",
    "# drop columns we don't want to predict\n",
    "reframed.drop(reframed.columns[4:], axis=1, inplace=True)\n",
    "print(reframed.head())\n",
    "print(reframed.shape)"
   ]
  },
  {
   "cell_type": "code",
   "execution_count": 17,
   "metadata": {
    "colab": {
     "base_uri": "https://localhost:8080/",
     "height": 35
    },
    "colab_type": "code",
    "id": "L4g6F96Jdamu",
    "outputId": "de4d2224-df9f-418d-b84e-8c6f46ca8f03"
   },
   "outputs": [
    {
     "data": {
      "text/plain": [
       "(8530, 3)"
      ]
     },
     "execution_count": 17,
     "metadata": {
      "tags": []
     },
     "output_type": "execute_result"
    }
   ],
   "source": [
    "scaled.shape"
   ]
  },
  {
   "cell_type": "markdown",
   "metadata": {
    "colab_type": "text",
    "id": "_AbRRd0RGxFR"
   },
   "source": [
    "Define and Fit model : LSTM\n",
    "The example below splits the dataset into train and test sets, then splits the train and test sets into input and output variables. Finally, the inputs (X) are reshaped into the 3D format expected by LSTMs, namely [samples, timesteps, features]."
   ]
  },
  {
   "cell_type": "code",
   "execution_count": 15,
   "metadata": {
    "colab": {
     "base_uri": "https://localhost:8080/",
     "height": 35
    },
    "colab_type": "code",
    "id": "R_-3YuOfGq3I",
    "outputId": "58e7ebec-c2bd-4feb-f779-06d6af19742e"
   },
   "outputs": [
    {
     "name": "stdout",
     "output_type": "stream",
     "text": [
      "(7760, 1, 3) (7760,) (768, 1, 3) (768,)\n"
     ]
    }
   ],
   "source": [
    "# split into train and test sets\n",
    "values = reframed.values\n",
    "n_train_hours = 7760 #8064 Split_time\n",
    "train = values[:n_train_hours, :]\n",
    "test = values[n_train_hours:, :]\n",
    "# split into input and outputs\n",
    "train_X, train_y = train[:, :-1 ], train[:,-1 ]\n",
    "test_X, test_y = test[:, :-1], test[:,-1 ]\n",
    "# reshape input to be 3D [samples, timesteps, features]\n",
    "train_X = train_X.reshape((train_X.shape[0], 1, train_X.shape[1]))\n",
    "test_X = test_X.reshape((test_X.shape[0], 1, test_X.shape[1]))\n",
    "print(train_X.shape, train_y.shape, test_X.shape, test_y.shape)"
   ]
  },
  {
   "cell_type": "code",
   "execution_count": 19,
   "metadata": {
    "colab": {
     "base_uri": "https://localhost:8080/",
     "height": 35
    },
    "colab_type": "code",
    "id": "GW1OffohZJqa",
    "outputId": "22bdecf5-fed9-4374-8003-79671bbfacdf"
   },
   "outputs": [
    {
     "name": "stdout",
     "output_type": "stream",
     "text": [
      "(1, 3)\n"
     ]
    }
   ],
   "source": [
    "input_shape=train_X.shape[1], train_X.shape[2]\n",
    "print(input_shape)"
   ]
  },
  {
   "cell_type": "code",
   "execution_count": 20,
   "metadata": {
    "colab": {
     "base_uri": "https://localhost:8080/",
     "height": 248
    },
    "colab_type": "code",
    "id": "D3gmBHoSnYEp",
    "outputId": "917195a8-e043-44e8-dea9-b7ba3963740a"
   },
   "outputs": [
    {
     "data": {
      "text/plain": [
       "array([[[0.31815782, 0.22959298, 0.8324022 ]],\n",
       "\n",
       "       [[0.32760674, 0.24946445, 0.8324022 ]],\n",
       "\n",
       "       [[0.27249902, 0.24030316, 0.8324022 ]],\n",
       "\n",
       "       ...,\n",
       "\n",
       "       [[0.29119864, 0.47391665, 0.26256981]],\n",
       "\n",
       "       [[0.28366593, 0.42774755, 0.26256981]],\n",
       "\n",
       "       [[0.2649663 , 0.3691547 , 0.26256981]]], dtype=float32)"
      ]
     },
     "execution_count": 20,
     "metadata": {
      "tags": []
     },
     "output_type": "execute_result"
    }
   ],
   "source": [
    "train_X"
   ]
  },
  {
   "cell_type": "markdown",
   "metadata": {
    "colab_type": "text",
    "id": "ia9aeMJK8hEi"
   },
   "source": [
    "## LSTM algorithm: for multivariate time series "
   ]
  },
  {
   "cell_type": "code",
   "execution_count": 23,
   "metadata": {
    "colab": {
     "base_uri": "https://localhost:8080/",
     "height": 1000
    },
    "colab_type": "code",
    "id": "Sh2PYPZtHPpG",
    "outputId": "81d908b9-7c54-462e-86be-23649ea1845e"
   },
   "outputs": [
    {
     "name": "stdout",
     "output_type": "stream",
     "text": [
      "Train on 7760 samples, validate on 768 samples\n",
      "Epoch 1/50\n",
      "7760/7760 - 7s - loss: 0.1013 - val_loss: 0.0400\n",
      "Epoch 2/50\n",
      "7760/7760 - 0s - loss: 0.0355 - val_loss: 0.0376\n",
      "Epoch 3/50\n",
      "7760/7760 - 0s - loss: 0.0323 - val_loss: 0.0356\n",
      "Epoch 4/50\n",
      "7760/7760 - 0s - loss: 0.0302 - val_loss: 0.0336\n",
      "Epoch 5/50\n",
      "7760/7760 - 0s - loss: 0.0283 - val_loss: 0.0311\n",
      "Epoch 6/50\n",
      "7760/7760 - 0s - loss: 0.0265 - val_loss: 0.0285\n",
      "Epoch 7/50\n",
      "7760/7760 - 0s - loss: 0.0248 - val_loss: 0.0257\n",
      "Epoch 8/50\n",
      "7760/7760 - 0s - loss: 0.0230 - val_loss: 0.0231\n",
      "Epoch 9/50\n",
      "7760/7760 - 0s - loss: 0.0213 - val_loss: 0.0208\n",
      "Epoch 10/50\n",
      "7760/7760 - 0s - loss: 0.0198 - val_loss: 0.0189\n",
      "Epoch 11/50\n",
      "7760/7760 - 0s - loss: 0.0186 - val_loss: 0.0178\n",
      "Epoch 12/50\n",
      "7760/7760 - 0s - loss: 0.0178 - val_loss: 0.0175\n",
      "Epoch 13/50\n",
      "7760/7760 - 0s - loss: 0.0172 - val_loss: 0.0175\n",
      "Epoch 14/50\n",
      "7760/7760 - 0s - loss: 0.0170 - val_loss: 0.0174\n",
      "Epoch 15/50\n",
      "7760/7760 - 0s - loss: 0.0170 - val_loss: 0.0173\n",
      "Epoch 16/50\n",
      "7760/7760 - 0s - loss: 0.0170 - val_loss: 0.0172\n",
      "Epoch 17/50\n",
      "7760/7760 - 0s - loss: 0.0168 - val_loss: 0.0172\n",
      "Epoch 18/50\n",
      "7760/7760 - 0s - loss: 0.0166 - val_loss: 0.0171\n",
      "Epoch 19/50\n",
      "7760/7760 - 0s - loss: 0.0165 - val_loss: 0.0172\n",
      "Epoch 20/50\n",
      "7760/7760 - 0s - loss: 0.0164 - val_loss: 0.0173\n",
      "Epoch 21/50\n",
      "7760/7760 - 0s - loss: 0.0164 - val_loss: 0.0174\n",
      "Epoch 22/50\n",
      "7760/7760 - 0s - loss: 0.0165 - val_loss: 0.0172\n",
      "Epoch 23/50\n",
      "7760/7760 - 0s - loss: 0.0164 - val_loss: 0.0173\n",
      "Epoch 24/50\n",
      "7760/7760 - 0s - loss: 0.0164 - val_loss: 0.0173\n",
      "Epoch 25/50\n",
      "7760/7760 - 0s - loss: 0.0164 - val_loss: 0.0172\n",
      "Epoch 26/50\n",
      "7760/7760 - 0s - loss: 0.0164 - val_loss: 0.0172\n",
      "Epoch 27/50\n",
      "7760/7760 - 0s - loss: 0.0163 - val_loss: 0.0172\n",
      "Epoch 28/50\n",
      "7760/7760 - 0s - loss: 0.0162 - val_loss: 0.0173\n",
      "Epoch 29/50\n",
      "7760/7760 - 0s - loss: 0.0163 - val_loss: 0.0172\n",
      "Epoch 30/50\n",
      "7760/7760 - 0s - loss: 0.0163 - val_loss: 0.0172\n",
      "Epoch 31/50\n",
      "7760/7760 - 0s - loss: 0.0162 - val_loss: 0.0173\n",
      "Epoch 32/50\n",
      "7760/7760 - 0s - loss: 0.0162 - val_loss: 0.0172\n",
      "Epoch 33/50\n",
      "7760/7760 - 0s - loss: 0.0162 - val_loss: 0.0171\n",
      "Epoch 34/50\n",
      "7760/7760 - 0s - loss: 0.0163 - val_loss: 0.0171\n",
      "Epoch 35/50\n",
      "7760/7760 - 0s - loss: 0.0163 - val_loss: 0.0172\n",
      "Epoch 36/50\n",
      "7760/7760 - 0s - loss: 0.0161 - val_loss: 0.0172\n",
      "Epoch 37/50\n",
      "7760/7760 - 0s - loss: 0.0162 - val_loss: 0.0171\n",
      "Epoch 38/50\n",
      "7760/7760 - 0s - loss: 0.0161 - val_loss: 0.0172\n",
      "Epoch 39/50\n",
      "7760/7760 - 0s - loss: 0.0161 - val_loss: 0.0172\n",
      "Epoch 40/50\n",
      "7760/7760 - 0s - loss: 0.0160 - val_loss: 0.0172\n",
      "Epoch 41/50\n",
      "7760/7760 - 0s - loss: 0.0161 - val_loss: 0.0172\n",
      "Epoch 42/50\n",
      "7760/7760 - 0s - loss: 0.0161 - val_loss: 0.0172\n",
      "Epoch 43/50\n",
      "7760/7760 - 0s - loss: 0.0161 - val_loss: 0.0172\n",
      "Epoch 44/50\n",
      "7760/7760 - 0s - loss: 0.0161 - val_loss: 0.0171\n",
      "Epoch 45/50\n",
      "7760/7760 - 0s - loss: 0.0161 - val_loss: 0.0171\n",
      "Epoch 46/50\n",
      "7760/7760 - 0s - loss: 0.0160 - val_loss: 0.0171\n",
      "Epoch 47/50\n",
      "7760/7760 - 0s - loss: 0.0160 - val_loss: 0.0172\n",
      "Epoch 48/50\n",
      "7760/7760 - 0s - loss: 0.0160 - val_loss: 0.0172\n",
      "Epoch 49/50\n",
      "7760/7760 - 0s - loss: 0.0160 - val_loss: 0.0172\n",
      "Epoch 50/50\n",
      "7760/7760 - 0s - loss: 0.0160 - val_loss: 0.0171\n"
     ]
    },
    {
     "data": {
      "image/png": "[encoded data removed]",
      "text/plain": [
       "<Figure size 432x288 with 1 Axes>"
      ]
     },
     "metadata": {
      "tags": []
     },
     "output_type": "display_data"
    }
   ],
   "source": [
    "tf.keras.backend.clear_session()\n",
    "tf.random.set_seed(51)\n",
    "model = tf.keras.Sequential()\n",
    "model.add(tf.keras.layers.LSTM(50, input_shape=(train_X.shape[1], train_X.shape[2])))\n",
    "model.add(tf.keras.layers.Dense(1))\n",
    "model.compile(loss='mae', optimizer='adam')\n",
    "# fit network\n",
    "history = model.fit(train_X, train_y, epochs=50, batch_size=72, validation_data=(test_X, test_y), verbose=2, shuffle=False)\n",
    "# plot history\n",
    "pyplot.plot(history.history['loss'], label='train')\n",
    "pyplot.plot(history.history['val_loss'], label='test')\n",
    "pyplot.legend()\n",
    "pyplot.show()\n"
   ]
  },
  {
   "cell_type": "code",
   "execution_count": 0,
   "metadata": {
    "colab": {},
    "colab_type": "code",
    "id": "lDNlpMgeKuaV"
   },
   "outputs": [],
   "source": [
    "# make a prediction\n",
    "yhat = model.predict(test_X)\n",
    "test_X = test_X.reshape((test_X.shape[0], test_X.shape[2]))\n",
    "# invert scaling for forecast\n",
    "inv_yhat = concatenate((yhat, test_X[:, 1:]), axis=1)\n",
    "inv_yhat = scaler.inverse_transform(inv_yhat)\n",
    "inv_yhat = inv_yhat[:,0]\n",
    "# invert scaling for actual\n",
    "test_y = test_y.reshape((len(test_y), 1))\n",
    "inv_y = concatenate((test_y, test_X[:, 1:]), axis=1)\n",
    "inv_y = scaler.inverse_transform(inv_y)\n",
    "inv_y = inv_y[:,0]\n"
   ]
  },
  {
   "cell_type": "code",
   "execution_count": 25,
   "metadata": {
    "colab": {
     "base_uri": "https://localhost:8080/",
     "height": 88
    },
    "colab_type": "code",
    "id": "JYHz18Rz9-Io",
    "outputId": "203ee9e4-4550-4f44-86f6-95684f8d896f"
   },
   "outputs": [
    {
     "name": "stdout",
     "output_type": "stream",
     "text": [
      "MAE Error: 2.592669249\n",
      "MSE Error : 19.47518158\n",
      "RMSE Error: 4.413069248\n",
      "MAPE Error:  6.53289482\n"
     ]
    }
   ],
   "source": [
    "#Evaluation: forcasted values vs. real values\n",
    "from sklearn.metrics import mean_absolute_error\n",
    "from statsmodels.tools.eval_measures import mse,rmse\n",
    "error1 = mse(inv_y, inv_yhat)\n",
    "error2 = rmse(inv_y, inv_yhat)\n",
    "error3 = mean_absolute_error(inv_y, inv_yhat)\n",
    "\n",
    "def mean_absolute_percentage_error(y_true, y_pred): \n",
    "    y_true, y_pred = np.array(inv_y), np.array(inv_yhat)\n",
    "    return np.mean(np.abs((y_true - y_pred) / y_true)) * 100\n",
    "\n",
    "error4 = mean_absolute_percentage_error(inv_y, inv_yhat)\n",
    "\n",
    "print(f'MAE Error: {error3:11.10}') \n",
    "print(f'MSE Error : {error1:11.10}')\n",
    "print(f'RMSE Error: {error2:11.10}')\n",
    "print(f'MAPE Error: {error4:11.10}')\n"
   ]
  },
  {
   "cell_type": "code",
   "execution_count": 27,
   "metadata": {
    "colab": {
     "base_uri": "https://localhost:8080/",
     "height": 376
    },
    "colab_type": "code",
    "id": "-1mqZLXgK-xd",
    "outputId": "2ee8e0d7-ccaa-4464-ecc9-c5831f8c56e9"
   },
   "outputs": [
    {
     "data": {
      "image/png": "[encoded data removed]",
      "text/plain": [
       "<Figure size 720x432 with 1 Axes>"
      ]
     },
     "metadata": {
      "tags": []
     },
     "output_type": "display_data"
    }
   ],
   "source": [
    "pyplot.figure(figsize=(10, 6))\n",
    "pyplot.plot(inv_yhat)\n",
    "pyplot.plot(inv_y)\n",
    "pyplot.show()\n"
   ]
  },
  {
   "cell_type": "code",
   "execution_count": 28,
   "metadata": {
    "colab": {
     "base_uri": "https://localhost:8080/",
     "height": 265
    },
    "colab_type": "code",
    "id": "TESsZ0NzLc3t",
    "outputId": "7d1a6763-d4a9-4d11-c2b3-d82b50abab63"
   },
   "outputs": [
    {
     "data": {
      "image/png": "[encoded data removed]",
      "text/plain": [
       "<Figure size 432x288 with 1 Axes>"
      ]
     },
     "metadata": {
      "tags": []
     },
     "output_type": "display_data"
    }
   ],
   "source": [
    "pyplot.plot(inv_yhat[-100:])\n",
    "pyplot.plot(inv_y[-100:])\n",
    "pyplot.show()"
   ]
  },
  {
   "cell_type": "markdown",
   "metadata": {
    "colab_type": "text",
    "id": "OP-67lqsA9Tb"
   },
   "source": [
    "## LSTM with convolution layer on top for multivariate time series"
   ]
  },
  {
   "cell_type": "code",
   "execution_count": 0,
   "metadata": {
    "colab": {},
    "colab_type": "code",
    "id": "591G8djkTGku"
   },
   "outputs": [],
   "source": [
    "tf.keras.backend.clear_session()\n",
    "tf.random.set_seed(51)\n",
    "np.random.seed(51)\n",
    "#window_size=60\n",
    "\n",
    "model = tf.keras.models.Sequential([\n",
    "  tf.keras.layers.Conv1D(filters=60, kernel_size=5,\n",
    "                      strides=1, padding=\"causal\",\n",
    "                      activation=\"relu\",\n",
    "                      input_shape=[None,3]),\n",
    "  tf.keras.layers.LSTM(60, return_sequences=True),\n",
    "  tf.keras.layers.LSTM(60, return_sequences=True),\n",
    "  tf.keras.layers.Dense(30, activation=\"relu\"),\n",
    "  tf.keras.layers.Dense(10, activation=\"relu\"),\n",
    "  tf.keras.layers.Dense(1),\n",
    "  tf.keras.layers.Lambda(lambda x: x * 400)\n",
    "])\n"
   ]
  },
  {
   "cell_type": "code",
   "execution_count": 19,
   "metadata": {
    "colab": {
     "base_uri": "https://localhost:8080/",
     "height": 1000
    },
    "colab_type": "code",
    "id": "DrkvGUnYUqet",
    "outputId": "bc4c6353-5b6f-4f9c-8117-264cb6594576"
   },
   "outputs": [
    {
     "name": "stdout",
     "output_type": "stream",
     "text": [
      "Train on 7760 samples, validate on 768 samples\n",
      "Epoch 1/100\n",
      "7760/7760 - 4s - loss: 0.0881 - mae: 0.2344 - val_loss: 0.0043 - val_mae: 0.0688\n",
      "Epoch 2/100\n",
      "7760/7760 - 1s - loss: 0.0032 - mae: 0.0569 - val_loss: 0.0042 - val_mae: 0.0695\n",
      "Epoch 3/100\n",
      "7760/7760 - 1s - loss: 0.0023 - mae: 0.0488 - val_loss: 0.0041 - val_mae: 0.0684\n",
      "Epoch 4/100\n",
      "7760/7760 - 1s - loss: 0.0020 - mae: 0.0457 - val_loss: 0.0038 - val_mae: 0.0655\n",
      "Epoch 5/100\n",
      "7760/7760 - 1s - loss: 0.0018 - mae: 0.0440 - val_loss: 0.0036 - val_mae: 0.0644\n",
      "Epoch 6/100\n",
      "7760/7760 - 1s - loss: 0.0017 - mae: 0.0427 - val_loss: 0.0033 - val_mae: 0.0616\n",
      "Epoch 7/100\n",
      "7760/7760 - 1s - loss: 0.0017 - mae: 0.0420 - val_loss: 0.0030 - val_mae: 0.0582\n",
      "Epoch 8/100\n",
      "7760/7760 - 1s - loss: 0.0017 - mae: 0.0416 - val_loss: 0.0029 - val_mae: 0.0562\n",
      "Epoch 9/100\n",
      "7760/7760 - 1s - loss: 0.0016 - mae: 0.0415 - val_loss: 0.0028 - val_mae: 0.0543\n",
      "Epoch 10/100\n",
      "7760/7760 - 1s - loss: 0.0016 - mae: 0.0413 - val_loss: 0.0027 - val_mae: 0.0528\n",
      "Epoch 11/100\n",
      "7760/7760 - 1s - loss: 0.0016 - mae: 0.0410 - val_loss: 0.0026 - val_mae: 0.0516\n",
      "Epoch 12/100\n",
      "7760/7760 - 1s - loss: 0.0015 - mae: 0.0406 - val_loss: 0.0026 - val_mae: 0.0507\n",
      "Epoch 13/100\n",
      "7760/7760 - 1s - loss: 0.0015 - mae: 0.0400 - val_loss: 0.0025 - val_mae: 0.0498\n",
      "Epoch 14/100\n",
      "7760/7760 - 1s - loss: 0.0015 - mae: 0.0399 - val_loss: 0.0024 - val_mae: 0.0488\n",
      "Epoch 15/100\n",
      "7760/7760 - 1s - loss: 0.0014 - mae: 0.0398 - val_loss: 0.0024 - val_mae: 0.0478\n",
      "Epoch 16/100\n",
      "7760/7760 - 1s - loss: 0.0014 - mae: 0.0397 - val_loss: 0.0024 - val_mae: 0.0470\n",
      "Epoch 17/100\n",
      "7760/7760 - 1s - loss: 0.0014 - mae: 0.0394 - val_loss: 0.0023 - val_mae: 0.0459\n",
      "Epoch 18/100\n",
      "7760/7760 - 1s - loss: 0.0013 - mae: 0.0387 - val_loss: 0.0023 - val_mae: 0.0449\n",
      "Epoch 19/100\n",
      "7760/7760 - 1s - loss: 0.0014 - mae: 0.0390 - val_loss: 0.0023 - val_mae: 0.0446\n",
      "Epoch 20/100\n",
      "7760/7760 - 1s - loss: 0.0014 - mae: 0.0393 - val_loss: 0.0022 - val_mae: 0.0446\n",
      "Epoch 21/100\n",
      "7760/7760 - 1s - loss: 0.0014 - mae: 0.0390 - val_loss: 0.0022 - val_mae: 0.0444\n",
      "Epoch 22/100\n",
      "7760/7760 - 1s - loss: 0.0014 - mae: 0.0392 - val_loss: 0.0022 - val_mae: 0.0444\n",
      "Epoch 23/100\n",
      "7760/7760 - 1s - loss: 0.0013 - mae: 0.0387 - val_loss: 0.0022 - val_mae: 0.0442\n",
      "Epoch 24/100\n",
      "7760/7760 - 1s - loss: 0.0014 - mae: 0.0391 - val_loss: 0.0022 - val_mae: 0.0442\n",
      "Epoch 25/100\n",
      "7760/7760 - 1s - loss: 0.0013 - mae: 0.0387 - val_loss: 0.0022 - val_mae: 0.0440\n",
      "Epoch 26/100\n",
      "7760/7760 - 1s - loss: 0.0013 - mae: 0.0386 - val_loss: 0.0022 - val_mae: 0.0439\n",
      "Epoch 27/100\n",
      "7760/7760 - 1s - loss: 0.0013 - mae: 0.0387 - val_loss: 0.0022 - val_mae: 0.0438\n",
      "Epoch 28/100\n",
      "7760/7760 - 1s - loss: 0.0013 - mae: 0.0385 - val_loss: 0.0022 - val_mae: 0.0436\n",
      "Epoch 29/100\n",
      "7760/7760 - 1s - loss: 0.0013 - mae: 0.0384 - val_loss: 0.0022 - val_mae: 0.0435\n",
      "Epoch 30/100\n",
      "7760/7760 - 1s - loss: 0.0013 - mae: 0.0384 - val_loss: 0.0022 - val_mae: 0.0433\n",
      "Epoch 31/100\n",
      "7760/7760 - 1s - loss: 0.0013 - mae: 0.0383 - val_loss: 0.0022 - val_mae: 0.0432\n",
      "Epoch 32/100\n",
      "7760/7760 - 1s - loss: 0.0013 - mae: 0.0385 - val_loss: 0.0022 - val_mae: 0.0431\n",
      "Epoch 33/100\n",
      "7760/7760 - 1s - loss: 0.0013 - mae: 0.0379 - val_loss: 0.0021 - val_mae: 0.0430\n",
      "Epoch 34/100\n",
      "7760/7760 - 1s - loss: 0.0013 - mae: 0.0389 - val_loss: 0.0021 - val_mae: 0.0429\n",
      "Epoch 35/100\n",
      "7760/7760 - 1s - loss: 0.0013 - mae: 0.0378 - val_loss: 0.0021 - val_mae: 0.0429\n",
      "Epoch 36/100\n",
      "7760/7760 - 1s - loss: 0.0013 - mae: 0.0390 - val_loss: 0.0021 - val_mae: 0.0428\n",
      "Epoch 37/100\n",
      "7760/7760 - 1s - loss: 0.0012 - mae: 0.0378 - val_loss: 0.0021 - val_mae: 0.0428\n",
      "Epoch 38/100\n",
      "7760/7760 - 1s - loss: 0.0013 - mae: 0.0388 - val_loss: 0.0021 - val_mae: 0.0427\n",
      "Epoch 39/100\n",
      "7760/7760 - 1s - loss: 0.0013 - mae: 0.0379 - val_loss: 0.0021 - val_mae: 0.0427\n",
      "Epoch 40/100\n",
      "7760/7760 - 1s - loss: 0.0013 - mae: 0.0386 - val_loss: 0.0021 - val_mae: 0.0426\n",
      "Epoch 41/100\n",
      "7760/7760 - 1s - loss: 0.0013 - mae: 0.0381 - val_loss: 0.0021 - val_mae: 0.0426\n",
      "Epoch 42/100\n",
      "7760/7760 - 1s - loss: 0.0013 - mae: 0.0382 - val_loss: 0.0021 - val_mae: 0.0426\n",
      "Epoch 43/100\n",
      "7760/7760 - 1s - loss: 0.0013 - mae: 0.0379 - val_loss: 0.0021 - val_mae: 0.0426\n",
      "Epoch 44/100\n",
      "7760/7760 - 1s - loss: 0.0013 - mae: 0.0384 - val_loss: 0.0021 - val_mae: 0.0426\n",
      "Epoch 45/100\n",
      "7760/7760 - 1s - loss: 0.0013 - mae: 0.0379 - val_loss: 0.0021 - val_mae: 0.0426\n",
      "Epoch 46/100\n",
      "7760/7760 - 1s - loss: 0.0013 - mae: 0.0384 - val_loss: 0.0021 - val_mae: 0.0426\n",
      "Epoch 47/100\n",
      "7760/7760 - 1s - loss: 0.0013 - mae: 0.0379 - val_loss: 0.0021 - val_mae: 0.0426\n",
      "Epoch 48/100\n",
      "7760/7760 - 1s - loss: 0.0013 - mae: 0.0383 - val_loss: 0.0021 - val_mae: 0.0426\n",
      "Epoch 49/100\n",
      "7760/7760 - 1s - loss: 0.0013 - mae: 0.0379 - val_loss: 0.0021 - val_mae: 0.0426\n",
      "Epoch 50/100\n",
      "7760/7760 - 1s - loss: 0.0013 - mae: 0.0383 - val_loss: 0.0021 - val_mae: 0.0425\n",
      "Epoch 51/100\n",
      "7760/7760 - 1s - loss: 0.0013 - mae: 0.0379 - val_loss: 0.0021 - val_mae: 0.0426\n",
      "Epoch 52/100\n",
      "7760/7760 - 1s - loss: 0.0013 - mae: 0.0383 - val_loss: 0.0021 - val_mae: 0.0425\n",
      "Epoch 53/100\n",
      "7760/7760 - 1s - loss: 0.0013 - mae: 0.0379 - val_loss: 0.0021 - val_mae: 0.0425\n",
      "Epoch 54/100\n",
      "7760/7760 - 1s - loss: 0.0013 - mae: 0.0383 - val_loss: 0.0021 - val_mae: 0.0425\n",
      "Epoch 55/100\n",
      "7760/7760 - 1s - loss: 0.0013 - mae: 0.0379 - val_loss: 0.0021 - val_mae: 0.0425\n",
      "Epoch 56/100\n",
      "7760/7760 - 1s - loss: 0.0013 - mae: 0.0382 - val_loss: 0.0021 - val_mae: 0.0425\n",
      "Epoch 57/100\n",
      "7760/7760 - 1s - loss: 0.0013 - mae: 0.0378 - val_loss: 0.0021 - val_mae: 0.0425\n",
      "Epoch 58/100\n",
      "7760/7760 - 1s - loss: 0.0013 - mae: 0.0383 - val_loss: 0.0021 - val_mae: 0.0425\n",
      "Epoch 59/100\n",
      "7760/7760 - 1s - loss: 0.0013 - mae: 0.0379 - val_loss: 0.0021 - val_mae: 0.0425\n",
      "Epoch 60/100\n",
      "7760/7760 - 1s - loss: 0.0013 - mae: 0.0381 - val_loss: 0.0021 - val_mae: 0.0425\n",
      "Epoch 61/100\n",
      "7760/7760 - 1s - loss: 0.0013 - mae: 0.0378 - val_loss: 0.0021 - val_mae: 0.0425\n",
      "Epoch 62/100\n",
      "7760/7760 - 1s - loss: 0.0013 - mae: 0.0382 - val_loss: 0.0021 - val_mae: 0.0425\n",
      "Epoch 63/100\n",
      "7760/7760 - 1s - loss: 0.0013 - mae: 0.0379 - val_loss: 0.0021 - val_mae: 0.0425\n",
      "Epoch 64/100\n",
      "7760/7760 - 1s - loss: 0.0013 - mae: 0.0379 - val_loss: 0.0021 - val_mae: 0.0425\n",
      "Epoch 65/100\n",
      "7760/7760 - 1s - loss: 0.0013 - mae: 0.0382 - val_loss: 0.0021 - val_mae: 0.0425\n",
      "Epoch 66/100\n",
      "7760/7760 - 1s - loss: 0.0012 - mae: 0.0378 - val_loss: 0.0021 - val_mae: 0.0425\n",
      "Epoch 67/100\n",
      "7760/7760 - 1s - loss: 0.0013 - mae: 0.0382 - val_loss: 0.0021 - val_mae: 0.0425\n",
      "Epoch 68/100\n",
      "7760/7760 - 1s - loss: 0.0013 - mae: 0.0378 - val_loss: 0.0021 - val_mae: 0.0425\n",
      "Epoch 69/100\n",
      "7760/7760 - 1s - loss: 0.0013 - mae: 0.0382 - val_loss: 0.0021 - val_mae: 0.0425\n",
      "Epoch 70/100\n",
      "7760/7760 - 1s - loss: 0.0013 - mae: 0.0378 - val_loss: 0.0021 - val_mae: 0.0425\n",
      "Epoch 71/100\n",
      "7760/7760 - 1s - loss: 0.0013 - mae: 0.0382 - val_loss: 0.0021 - val_mae: 0.0425\n",
      "Epoch 72/100\n",
      "7760/7760 - 1s - loss: 0.0013 - mae: 0.0378 - val_loss: 0.0021 - val_mae: 0.0425\n",
      "Epoch 73/100\n",
      "7760/7760 - 1s - loss: 0.0013 - mae: 0.0382 - val_loss: 0.0021 - val_mae: 0.0425\n",
      "Epoch 74/100\n",
      "7760/7760 - 1s - loss: 0.0013 - mae: 0.0379 - val_loss: 0.0021 - val_mae: 0.0425\n",
      "Epoch 75/100\n",
      "7760/7760 - 1s - loss: 0.0013 - mae: 0.0380 - val_loss: 0.0021 - val_mae: 0.0425\n",
      "Epoch 76/100\n",
      "7760/7760 - 1s - loss: 0.0013 - mae: 0.0379 - val_loss: 0.0021 - val_mae: 0.0425\n",
      "Epoch 77/100\n",
      "7760/7760 - 1s - loss: 0.0013 - mae: 0.0382 - val_loss: 0.0021 - val_mae: 0.0424\n",
      "Epoch 78/100\n",
      "7760/7760 - 1s - loss: 0.0012 - mae: 0.0378 - val_loss: 0.0021 - val_mae: 0.0425\n",
      "Epoch 79/100\n",
      "7760/7760 - 1s - loss: 0.0013 - mae: 0.0382 - val_loss: 0.0021 - val_mae: 0.0424\n",
      "Epoch 80/100\n",
      "7760/7760 - 1s - loss: 0.0012 - mae: 0.0378 - val_loss: 0.0021 - val_mae: 0.0425\n",
      "Epoch 81/100\n",
      "7760/7760 - 1s - loss: 0.0013 - mae: 0.0382 - val_loss: 0.0021 - val_mae: 0.0424\n",
      "Epoch 82/100\n",
      "7760/7760 - 1s - loss: 0.0013 - mae: 0.0378 - val_loss: 0.0021 - val_mae: 0.0424\n",
      "Epoch 83/100\n",
      "7760/7760 - 1s - loss: 0.0013 - mae: 0.0380 - val_loss: 0.0021 - val_mae: 0.0424\n",
      "Epoch 84/100\n",
      "7760/7760 - 1s - loss: 0.0012 - mae: 0.0378 - val_loss: 0.0021 - val_mae: 0.0424\n",
      "Epoch 85/100\n",
      "7760/7760 - 1s - loss: 0.0013 - mae: 0.0382 - val_loss: 0.0021 - val_mae: 0.0424\n",
      "Epoch 86/100\n",
      "7760/7760 - 1s - loss: 0.0012 - mae: 0.0378 - val_loss: 0.0021 - val_mae: 0.0424\n",
      "Epoch 87/100\n",
      "7760/7760 - 1s - loss: 0.0013 - mae: 0.0382 - val_loss: 0.0021 - val_mae: 0.0424\n",
      "Epoch 88/100\n",
      "7760/7760 - 1s - loss: 0.0012 - mae: 0.0378 - val_loss: 0.0021 - val_mae: 0.0424\n",
      "Epoch 89/100\n",
      "7760/7760 - 1s - loss: 0.0013 - mae: 0.0382 - val_loss: 0.0021 - val_mae: 0.0424\n",
      "Epoch 90/100\n",
      "7760/7760 - 1s - loss: 0.0012 - mae: 0.0378 - val_loss: 0.0021 - val_mae: 0.0424\n",
      "Epoch 91/100\n",
      "7760/7760 - 1s - loss: 0.0013 - mae: 0.0382 - val_loss: 0.0021 - val_mae: 0.0424\n",
      "Epoch 92/100\n",
      "7760/7760 - 1s - loss: 0.0013 - mae: 0.0378 - val_loss: 0.0021 - val_mae: 0.0424\n",
      "Epoch 93/100\n",
      "7760/7760 - 1s - loss: 0.0013 - mae: 0.0380 - val_loss: 0.0021 - val_mae: 0.0423\n",
      "Epoch 94/100\n",
      "7760/7760 - 1s - loss: 0.0012 - mae: 0.0377 - val_loss: 0.0021 - val_mae: 0.0424\n",
      "Epoch 95/100\n",
      "7760/7760 - 1s - loss: 0.0013 - mae: 0.0382 - val_loss: 0.0021 - val_mae: 0.0423\n",
      "Epoch 96/100\n",
      "7760/7760 - 1s - loss: 0.0012 - mae: 0.0378 - val_loss: 0.0021 - val_mae: 0.0424\n",
      "Epoch 97/100\n",
      "7760/7760 - 1s - loss: 0.0013 - mae: 0.0382 - val_loss: 0.0021 - val_mae: 0.0424\n",
      "Epoch 98/100\n",
      "7760/7760 - 1s - loss: 0.0012 - mae: 0.0378 - val_loss: 0.0021 - val_mae: 0.0424\n",
      "Epoch 99/100\n",
      "7760/7760 - 1s - loss: 0.0013 - mae: 0.0380 - val_loss: 0.0021 - val_mae: 0.0424\n",
      "Epoch 100/100\n",
      "7760/7760 - 1s - loss: 0.0012 - mae: 0.0378 - val_loss: 0.0021 - val_mae: 0.0424\n"
     ]
    }
   ],
   "source": [
    "optimizer = tf.keras.optimizers.SGD(lr=1e-6, momentum=0.9)\n",
    "model.compile(loss=tf.keras.losses.Huber(),\n",
    "              optimizer=optimizer,\n",
    "              metrics=[\"mae\"])\n",
    "#history = model.fit(train_set,epochs=70)\n",
    "history = model.fit(train_X, train_y, epochs=100, batch_size=72, validation_data=(test_X, test_y), verbose=2, shuffle=False)"
   ]
  },
  {
   "cell_type": "code",
   "execution_count": 0,
   "metadata": {
    "colab": {},
    "colab_type": "code",
    "id": "Se4XcbWCWVJp"
   },
   "outputs": [],
   "source": [
    "from matplotlib import pyplot as plt\n",
    "#optimizer = tf.keras.optimizers.SGD(lr=1e-6, momentum=0.9)\n",
    "plt.semilogx(history.history[\"lr\"], history.history[\"loss\"])\n",
    "plt.axis([1e-8, 1e-4, 0, 60])"
   ]
  },
  {
   "cell_type": "code",
   "execution_count": 20,
   "metadata": {
    "colab": {
     "base_uri": "https://localhost:8080/",
     "height": 265
    },
    "colab_type": "code",
    "id": "A-DmSdcgViZR",
    "outputId": "a21081d7-37b4-433e-9f21-f44cb06718a9"
   },
   "outputs": [
    {
     "data": {
      "image/png": "[encoded data removed]",
      "text/plain": [
       "<Figure size 432x288 with 1 Axes>"
      ]
     },
     "metadata": {
      "tags": []
     },
     "output_type": "display_data"
    }
   ],
   "source": [
    "pyplot.plot(history.history['loss'], label='train')\n",
    "pyplot.plot(history.history['val_loss'], label='test')\n",
    "pyplot.legend()\n",
    "pyplot.show()"
   ]
  },
  {
   "cell_type": "code",
   "execution_count": 0,
   "metadata": {
    "colab": {},
    "colab_type": "code",
    "id": "qYoYYjYtEbYq"
   },
   "outputs": [],
   "source": [
    "# make a prediction\n",
    "yhat = model.predict(test_X)\n",
    "yhat = yhat.reshape(yhat.shape[0],yhat.shape[2])\n",
    "test_X = test_X.reshape((test_X.shape[0], test_X.shape[2]))\n",
    "# invert scaling for forecast\n",
    "inv_yhat = concatenate((yhat, test_X[:, 1:]), axis=1)\n",
    "inv_yhat = scaler.inverse_transform(inv_yhat)\n",
    "inv_yhat = inv_yhat[:,0]\n",
    "# invert scaling for actual\n",
    "test_y = test_y.reshape((len(test_y), 1))\n",
    "inv_y = concatenate((test_y, test_X[:, 1:]), axis=1)\n",
    "inv_y = scaler.inverse_transform(inv_y)\n",
    "inv_y = inv_y[:,0]\n"
   ]
  },
  {
   "cell_type": "code",
   "execution_count": 22,
   "metadata": {
    "colab": {
     "base_uri": "https://localhost:8080/",
     "height": 374
    },
    "colab_type": "code",
    "id": "KR_rf5YuagHZ",
    "outputId": "a1cff6cf-1c5b-4058-e8bf-f936abe80c7d"
   },
   "outputs": [
    {
     "data": {
      "image/png": "[encoded data removed]",
      "text/plain": [
       "<Figure size 720x432 with 1 Axes>"
      ]
     },
     "metadata": {
      "tags": []
     },
     "output_type": "display_data"
    }
   ],
   "source": [
    "pyplot.figure(figsize=(10, 6))\n",
    "pyplot.plot(inv_yhat)\n",
    "pyplot.plot(inv_y)\n",
    "pyplot.show()"
   ]
  },
  {
   "cell_type": "code",
   "execution_count": 94,
   "metadata": {
    "colab": {
     "base_uri": "https://localhost:8080/",
     "height": 88
    },
    "colab_type": "code",
    "id": "PC7FMXKAbg4a",
    "outputId": "f70636d6-8bcf-4619-ea62-5e61b203256a"
   },
   "outputs": [
    {
     "name": "stdout",
     "output_type": "stream",
     "text": [
      "MAE Error: 6.416340351\n",
      "MSE Error : 95.23300934\n",
      "RMSE Error: 9.758740425\n",
      "MAPE Error: 17.38224179\n"
     ]
    }
   ],
   "source": [
    "#Evaluation: forcasted values vs. real values\n",
    "from sklearn.metrics import mean_absolute_error\n",
    "from statsmodels.tools.eval_measures import mse,rmse\n",
    "error1 = mse(inv_y, inv_yhat)\n",
    "error2 = rmse(inv_y, inv_yhat)\n",
    "error3 = mean_absolute_error(inv_y, inv_yhat)\n",
    "\n",
    "def mean_absolute_percentage_error(y_true, y_pred): \n",
    "    y_true, y_pred = np.array(inv_y), np.array(inv_yhat)\n",
    "    return np.mean(np.abs((y_true - y_pred) / y_true)) * 100\n",
    "\n",
    "error4 = mean_absolute_percentage_error(inv_y, inv_yhat)\n",
    "\n",
    "print(f'MAE Error: {error3:11.10}') \n",
    "print(f'MSE Error : {error1:11.10}')\n",
    "print(f'RMSE Error: {error2:11.10}')\n",
    "print(f'MAPE Error: {error4:11.10}')\n"
   ]
  }
 ],
 "metadata": {
  "accelerator": "GPU",
  "colab": {
   "collapsed_sections": [],
   "name": "Untitled6.ipynb",
   "provenance": [],
   "toc_visible": true
  },
  "kernelspec": {
   "display_name": "Python 3",
   "language": "python",
   "name": "python3"
  },
  "language_info": {
   "codemirror_mode": {
    "name": "ipython",
    "version": 3
   },
   "file_extension": ".py",
   "mimetype": "text/x-python",
   "name": "python",
   "nbconvert_exporter": "python",
   "pygments_lexer": "ipython3",
   "version": "3.7.6"
  }
 },
 "nbformat": 4,
 "nbformat_minor": 1
}
